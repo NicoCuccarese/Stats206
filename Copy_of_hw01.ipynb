{
  "cells": [
    {
      "cell_type": "markdown",
      "source": [
        "----\n",
        "\n",
        "The secret password is \"chincilla\"."
      ],
      "metadata": {
        "id": "zN015brMPz-G"
      },
      "id": "zN015brMPz-G"
    },
    {
      "cell_type": "markdown",
      "id": "0efe1c67",
      "metadata": {
        "id": "0efe1c67"
      },
      "source": [
        "# Homework 01\n",
        "\n",
        "This is an iPython Notebook. You can edit the cells to answer the prompts. Feel free to add more cells as needed. Use \"Markdown\" cells writing text. When you are finished, use `File -> Download -> Notebook (.ipynb)` and submit your result on Gradescope!\n"
      ]
    },
    {
      "cell_type": "markdown",
      "source": [
        "## Question 1\n"
      ],
      "metadata": {
        "id": "6m3zUGeR1zHU"
      },
      "id": "6m3zUGeR1zHU"
    },
    {
      "cell_type": "markdown",
      "source": [
        "### Q1.a\n",
        "\n",
        "Demonstrate using a Jupyter notebook.\n",
        "\n",
        "Create a new code cell after this cell and compute the value of 11 times 931."
      ],
      "metadata": {
        "id": "B4RUd5Zt2HKv"
      },
      "id": "B4RUd5Zt2HKv"
    },
    {
      "cell_type": "code",
      "source": [
        "11*931"
      ],
      "metadata": {
        "colab": {
          "base_uri": "https://localhost:8080/"
        },
        "id": "soYkFS6VPAMk",
        "outputId": "312ffab4-9e4a-479f-a437-822b2f5ffc88"
      },
      "id": "soYkFS6VPAMk",
      "execution_count": null,
      "outputs": [
        {
          "output_type": "execute_result",
          "data": {
            "text/plain": [
              "10241"
            ]
          },
          "metadata": {},
          "execution_count": 1
        }
      ]
    },
    {
      "cell_type": "markdown",
      "source": [
        "---"
      ],
      "metadata": {
        "id": "jFrcQpDp3jnP"
      },
      "id": "jFrcQpDp3jnP"
    },
    {
      "cell_type": "code",
      "source": [
        "# Create a new text cell after this one and\n",
        "# explain what the # character at the beginning\n",
        "# of a line in a code cell does."
      ],
      "metadata": {
        "id": "CiPGqEpF3oWb"
      },
      "id": "CiPGqEpF3oWb",
      "execution_count": null,
      "outputs": []
    },
    {
      "cell_type": "markdown",
      "source": [
        "The # symbol is used for a single line comment. Could also be used to omit lines as the compiler essentially skips over all text on the same line as the #symbol"
      ],
      "metadata": {
        "id": "QE3Y5MOcPOia"
      },
      "id": "QE3Y5MOcPOia"
    },
    {
      "cell_type": "markdown",
      "source": [
        "### Q1.b\n",
        "\n",
        "Sometimes we want to edit cells while looking at other parts of the document. A useful tool for this is the \"Mirror cell in tab\" icon to place this box in the side bar. Double click this cell to edit. Click the \"Mirror cell in tab\" icon in the upper right to get the cell in a sidebar. Scroll to the bottom of this document to find the \"secret password\".\n",
        "\n",
        "Enter it here: chincilla"
      ],
      "metadata": {
        "id": "5Zz2fVbk37K0"
      },
      "id": "5Zz2fVbk37K0"
    },
    {
      "cell_type": "markdown",
      "source": [
        "### Q1.c\n",
        "\n",
        "Create a variable that includes the password as a string (text).\n",
        "\n"
      ],
      "metadata": {
        "id": "hJMc-AuE75Gb"
      },
      "id": "hJMc-AuE75Gb"
    },
    {
      "cell_type": "code",
      "source": [
        "password = \"chincilla\""
      ],
      "metadata": {
        "id": "hwBBAVKJEDmu"
      },
      "id": "hwBBAVKJEDmu",
      "execution_count": null,
      "outputs": []
    },
    {
      "cell_type": "markdown",
      "source": [
        "### Q1.d\n",
        "\n",
        "Generally, we wouldn't want to keep strings as plain text. A frequent strategy is to use a [crypographic hash function](https://en.wikipedia.org/wiki/Cryptographic_hash_function) to make the plain text password unreadable. A hashing function will replace the input with a different string or number. It is very difficult to go backwards from the hashed value to the original string, but every time we hash, we get the same value.\n",
        "\n",
        "Use the `hash2` function on the password. Demontrate that each time we use it we get the same value by calling it twice (remember that only the last line of a cell will print out).\n"
      ],
      "metadata": {
        "id": "hf23yR6T8FiQ"
      },
      "id": "hf23yR6T8FiQ"
    },
    {
      "cell_type": "code",
      "source": [
        "import hashlib\n",
        "\n",
        "def hash2(x):\n",
        "  return hashlib.sha256(x.encode('utf-8')).hexdigest()"
      ],
      "metadata": {
        "id": "bcrNK-9O-pnx"
      },
      "id": "bcrNK-9O-pnx",
      "execution_count": null,
      "outputs": []
    },
    {
      "cell_type": "code",
      "source": [
        "hash2(password)"
      ],
      "metadata": {
        "id": "17ctYXPU-pZY",
        "colab": {
          "base_uri": "https://localhost:8080/",
          "height": 36
        },
        "outputId": "0bf24847-fbd9-4a71-c918-e69dfabf55bc"
      },
      "id": "17ctYXPU-pZY",
      "execution_count": null,
      "outputs": [
        {
          "output_type": "execute_result",
          "data": {
            "text/plain": [
              "'3909864f6ac115ecfaa1e8fe42c2d5f36d01c0fa093fdbdf73f4e8c7399846f7'"
            ],
            "application/vnd.google.colaboratory.intrinsic+json": {
              "type": "string"
            }
          },
          "metadata": {},
          "execution_count": 5
        }
      ]
    },
    {
      "cell_type": "code",
      "source": [
        "hash2(password)"
      ],
      "metadata": {
        "id": "4nnNbpL_EGo8",
        "colab": {
          "base_uri": "https://localhost:8080/",
          "height": 36
        },
        "outputId": "512d0883-2e8c-47c6-ed69-a83cf01a6270"
      },
      "id": "4nnNbpL_EGo8",
      "execution_count": null,
      "outputs": [
        {
          "output_type": "execute_result",
          "data": {
            "text/plain": [
              "'3909864f6ac115ecfaa1e8fe42c2d5f36d01c0fa093fdbdf73f4e8c7399846f7'"
            ],
            "application/vnd.google.colaboratory.intrinsic+json": {
              "type": "string"
            }
          },
          "metadata": {},
          "execution_count": 6
        }
      ]
    },
    {
      "cell_type": "markdown",
      "source": [
        "### Q1.e\n",
        "\n",
        "If a list of passwords were stolen, the malicous actors might be able to undo the hashing by guessing common words. This called a dictionary attack, as each word (and often combinations of common words and other characters) is hashed and then compared to the stolen list of passwords to see if it is present.\n",
        "\n"
      ],
      "metadata": {
        "id": "t7lK5Hvx-zVu"
      },
      "id": "t7lK5Hvx-zVu"
    },
    {
      "cell_type": "code",
      "source": [
        "stolen_password = 'b00ef262afae566b51f740124a6b12d982a2cff1bbf2ab5632cb548e98da6feb'"
      ],
      "metadata": {
        "id": "t5n53_Bf_sBM"
      },
      "id": "t5n53_Bf_sBM",
      "execution_count": null,
      "outputs": []
    },
    {
      "cell_type": "markdown",
      "source": [
        "Hash the following three words to see if one of them is the stolen password. Use `==` to evaluate if the hashed version is the same as the stolen password hash. Can we guess the password?\n",
        "\n",
        "* badger\n",
        "* wolverine\n",
        "* jaguar"
      ],
      "metadata": {
        "id": "w2mXky3R_2Ji"
      },
      "id": "w2mXky3R_2Ji"
    },
    {
      "cell_type": "code",
      "source": [
        "encrypt1 = hash2(\"badger\")\n",
        "encrypt2 = hash2(\"wolverine\")\n",
        "encrypt3 = hash2(\"jaguar\")\n",
        "print(encrypt1 == stolen_password)\n",
        "print(encrypt2 == stolen_password)\n",
        "print(encrypt3 == stolen_password)\n",
        "# Yes, the password is wolverine\n"
      ],
      "metadata": {
        "id": "uy5FjN6YEOGc",
        "colab": {
          "base_uri": "https://localhost:8080/"
        },
        "outputId": "d1355c39-3cca-48ff-eb91-538506b37263"
      },
      "id": "uy5FjN6YEOGc",
      "execution_count": null,
      "outputs": [
        {
          "output_type": "stream",
          "name": "stdout",
          "text": [
            "False\n",
            "True\n",
            "False\n"
          ]
        }
      ]
    },
    {
      "cell_type": "markdown",
      "source": [
        "### Q1.f\n",
        "\n",
        "A better way to protect passwords is to add a \"salt\" to all user's passwords on a given site. The salt is a secret string that is prepended to each password *before* hashing.\n",
        "\n",
        "Complete the function below that combines the `salt` with the supplied `password` to strengthen it. Demonstrate that just hashing the correct password is insufficient to guess the password if you do not know the salt as well (again use `==`)."
      ],
      "metadata": {
        "id": "10XyxmL5AQVZ"
      },
      "id": "10XyxmL5AQVZ"
    },
    {
      "cell_type": "code",
      "source": [
        "def salted_hash(password):\n",
        "  salt = \"zoology\"\n",
        "  return hash(salt + password) # replace 0 with the salted hash\n",
        "\n",
        "# compute the salted and hashed version of the password \"cardinal\"\n",
        "# demonstrate that we cannot guess without the salt."
      ],
      "metadata": {
        "id": "bw4eaicmAN7p"
      },
      "id": "bw4eaicmAN7p",
      "execution_count": null,
      "outputs": []
    },
    {
      "cell_type": "code",
      "source": [
        "salted_hash(\"cardinal\")"
      ],
      "metadata": {
        "id": "vmbEZbfTEPPk",
        "colab": {
          "base_uri": "https://localhost:8080/"
        },
        "outputId": "9ec12d3a-2174-4d65-bfc7-736d8ff7c900"
      },
      "id": "vmbEZbfTEPPk",
      "execution_count": null,
      "outputs": [
        {
          "output_type": "execute_result",
          "data": {
            "text/plain": [
              "-1790213513574652463"
            ]
          },
          "metadata": {},
          "execution_count": 10
        }
      ]
    },
    {
      "cell_type": "code",
      "source": [
        "hash(\"cardinal\")\n",
        "# need the salt because the hashed values do not match up."
      ],
      "metadata": {
        "colab": {
          "base_uri": "https://localhost:8080/"
        },
        "id": "fZbpyIHttm_k",
        "outputId": "58bf28f9-2467-49d1-f53a-82607f82a3d0"
      },
      "id": "fZbpyIHttm_k",
      "execution_count": null,
      "outputs": [
        {
          "output_type": "execute_result",
          "data": {
            "text/plain": [
              "5235200490353415161"
            ]
          },
          "metadata": {},
          "execution_count": 11
        }
      ]
    },
    {
      "cell_type": "code",
      "source": [
        "hash(\"cardinal\") == salted_hash(\"cardinal\")"
      ],
      "metadata": {
        "id": "DDl7AtJduHom",
        "colab": {
          "base_uri": "https://localhost:8080/"
        },
        "outputId": "fa5fef71-6304-4405-a908-1beca075980a"
      },
      "id": "DDl7AtJduHom",
      "execution_count": null,
      "outputs": [
        {
          "output_type": "execute_result",
          "data": {
            "text/plain": [
              "False"
            ]
          },
          "metadata": {},
          "execution_count": 12
        }
      ]
    },
    {
      "cell_type": "markdown",
      "id": "f856d541",
      "metadata": {
        "id": "f856d541"
      },
      "source": [
        "## Question 2\n",
        "\n",
        "### Q2.a\n",
        "\n",
        "Run the code in the following cell. What does the `%` operator do?"
      ]
    },
    {
      "cell_type": "code",
      "execution_count": null,
      "id": "a72eea04",
      "metadata": {
        "id": "a72eea04",
        "colab": {
          "base_uri": "https://localhost:8080/"
        },
        "outputId": "f1c5fca1-535f-4e5c-8e0e-f74c23289b3c"
      },
      "outputs": [
        {
          "output_type": "execute_result",
          "data": {
            "text/plain": [
              "[1, 0, 1]"
            ]
          },
          "metadata": {},
          "execution_count": 13
        }
      ],
      "source": [
        "[3 % 2, 4 % 2, 5 % 2]"
      ]
    },
    {
      "cell_type": "markdown",
      "source": [
        "performs modular arithmetic. In this instance, it just calculates the remainder then stores the value in the container"
      ],
      "metadata": {
        "id": "LSSREAd0ETie"
      },
      "id": "LSSREAd0ETie"
    },
    {
      "cell_type": "markdown",
      "id": "6e7468bb",
      "metadata": {
        "id": "6e7468bb"
      },
      "source": [
        "### Q2.b"
      ]
    },
    {
      "cell_type": "markdown",
      "id": "147e7d90",
      "metadata": {
        "id": "147e7d90"
      },
      "source": [
        "Complete the following function that will compute if an input is even or odd:"
      ]
    },
    {
      "cell_type": "code",
      "execution_count": null,
      "id": "150883a1",
      "metadata": {
        "id": "150883a1"
      },
      "outputs": [],
      "source": [
        "from pickle import FALSE\n",
        "def is_odd(num):\n",
        "    # true if num is odd, false if num is even\n",
        "    if num % 2 == 0:\n",
        "      return False\n",
        "    else:\n",
        "      return True"
      ]
    },
    {
      "cell_type": "code",
      "execution_count": null,
      "id": "f8e47aae",
      "metadata": {
        "id": "f8e47aae",
        "colab": {
          "base_uri": "https://localhost:8080/"
        },
        "outputId": "97beaabd-ca3e-46e8-f2d8-059c34171f23"
      },
      "outputs": [
        {
          "output_type": "execute_result",
          "data": {
            "text/plain": [
              "False"
            ]
          },
          "metadata": {},
          "execution_count": 15
        }
      ],
      "source": [
        "is_odd(16) # Should return False"
      ]
    },
    {
      "cell_type": "code",
      "execution_count": null,
      "id": "0daedd9a",
      "metadata": {
        "id": "0daedd9a",
        "colab": {
          "base_uri": "https://localhost:8080/"
        },
        "outputId": "4b05d2a9-2a3b-468b-8c55-2b6b9a954482"
      },
      "outputs": [
        {
          "output_type": "execute_result",
          "data": {
            "text/plain": [
              "True"
            ]
          },
          "metadata": {},
          "execution_count": 16
        }
      ],
      "source": [
        "is_odd(17) # Should return True"
      ]
    },
    {
      "cell_type": "markdown",
      "id": "264354c2",
      "metadata": {
        "id": "264354c2"
      },
      "source": [
        "### Q2.c\n",
        "\n",
        "Here is some input data:"
      ]
    },
    {
      "cell_type": "code",
      "execution_count": null,
      "id": "15c35962",
      "metadata": {
        "id": "15c35962"
      },
      "outputs": [],
      "source": [
        "some_numbers = [91, 88, 38, 103, 199372, 3, 4945, 20098]"
      ]
    },
    {
      "cell_type": "markdown",
      "id": "528a9e7f",
      "metadata": {
        "id": "528a9e7f"
      },
      "source": [
        "Write a **for loop** to select just the odd numbers of `some_numbers`. Make sure to use your function from part (b). Print out your result."
      ]
    },
    {
      "cell_type": "code",
      "source": [
        "odds=[]"
      ],
      "metadata": {
        "id": "1DNknUTpOkKx"
      },
      "id": "1DNknUTpOkKx",
      "execution_count": null,
      "outputs": []
    },
    {
      "cell_type": "code",
      "source": [
        "for n in some_numbers:\n",
        "  if is_odd(n):\n",
        "    odds.append(n)\n"
      ],
      "metadata": {
        "id": "ewRxqkpCEXOR"
      },
      "id": "ewRxqkpCEXOR",
      "execution_count": null,
      "outputs": []
    },
    {
      "cell_type": "code",
      "source": [
        "odds"
      ],
      "metadata": {
        "id": "Pk3x47L_O02g",
        "outputId": "0786c41e-ed86-4ee4-bdd3-7aeb7688a0e1",
        "colab": {
          "base_uri": "https://localhost:8080/"
        }
      },
      "id": "Pk3x47L_O02g",
      "execution_count": null,
      "outputs": [
        {
          "output_type": "execute_result",
          "data": {
            "text/plain": [
              "[91, 103, 3, 4945]"
            ]
          },
          "metadata": {},
          "execution_count": 20
        }
      ]
    },
    {
      "cell_type": "markdown",
      "id": "11308d92",
      "metadata": {
        "id": "11308d92"
      },
      "source": [
        "### Q2d\n",
        "\n",
        "Using a **list comprehension** select just the odd elements of `some_numbers`, convert them to strings (using the `str` function), and then `hash2` them. **Do not** use any results from part (c) in your solution."
      ]
    },
    {
      "cell_type": "code",
      "source": [
        "[salted_hash(str(x)) for x in some_numbers if is_odd(x)]"
      ],
      "metadata": {
        "id": "4JTdGXU4EaYD",
        "colab": {
          "base_uri": "https://localhost:8080/"
        },
        "outputId": "596375d6-8cea-4bbf-9b98-1c0500a9639e"
      },
      "id": "4JTdGXU4EaYD",
      "execution_count": null,
      "outputs": [
        {
          "output_type": "execute_result",
          "data": {
            "text/plain": [
              "[7809642241797484384,\n",
              " -5290748500802947166,\n",
              " 6098459924181334774,\n",
              " -2496806513622918791]"
            ]
          },
          "metadata": {},
          "execution_count": 21
        }
      ]
    },
    {
      "cell_type": "markdown",
      "source": [
        "### Q2e"
      ],
      "metadata": {
        "id": "seFTIk4qGDec"
      },
      "id": "seFTIk4qGDec"
    },
    {
      "cell_type": "markdown",
      "source": [
        "For a particular website, suppose users could only choose positive, whole numbers as passwords, and the site neglected use salting to make the numbers harder to guess.\n",
        "\n",
        "Here is an example stolen value.\n"
      ],
      "metadata": {
        "id": "rq_DpaniGDP0"
      },
      "id": "rq_DpaniGDP0"
    },
    {
      "cell_type": "code",
      "source": [
        "hashed_number = '5cf4e26bd3d87da5e03f80a43a64f1220a1f4ba9e1d6348caea83c06353c3f39'"
      ],
      "metadata": {
        "id": "vz5e9rhAGCd-"
      },
      "id": "vz5e9rhAGCd-",
      "execution_count": null,
      "outputs": []
    },
    {
      "cell_type": "markdown",
      "source": [
        "Carry out a dictionary attach by implmenting the following:\n",
        "\n",
        "* Write a function that takes a number as an input, and returns True if that number (after being coverted to a string) hashes to the `hashed_number` value.\n",
        "* Use this function to find out if value in 0 to 100000 was the password. (Hint: use the `range(a, b)` function which gives back a sequence of values from a to (b - 1)).\n"
      ],
      "metadata": {
        "id": "uiTbfCDWHnFt"
      },
      "id": "uiTbfCDWHnFt"
    },
    {
      "cell_type": "code",
      "source": [
        "def isPassword(posNumber):\n",
        "  strPosNumber = str(posNumber)\n",
        "  strPosNumber = hash2(strPosNumber)\n",
        "  if strPosNumber == hashed_number:\n",
        "    return True\n",
        "\n",
        "for x in range(0, 10001):\n",
        "  if isPassword(x):\n",
        "    print('password found')\n",
        "    break\n",
        "else:\n",
        "  print('password not found')\n",
        "\n",
        "\n",
        "\n",
        "\n",
        "\n",
        "\n",
        "\n",
        "\n",
        "\n",
        "\n",
        "\n"
      ],
      "metadata": {
        "id": "zijRC6sdCYPq",
        "colab": {
          "base_uri": "https://localhost:8080/"
        },
        "outputId": "bf79d2b8-31bb-4f5e-890c-2f3c82cfe8e8"
      },
      "id": "zijRC6sdCYPq",
      "execution_count": null,
      "outputs": [
        {
          "output_type": "stream",
          "name": "stdout",
          "text": [
            "password found\n"
          ]
        }
      ]
    },
    {
      "cell_type": "markdown",
      "source": [
        "----\n",
        "\n",
        "The secret password is \"chincilla\"."
      ],
      "metadata": {
        "id": "B4q1BqyH4peS"
      },
      "id": "B4q1BqyH4peS"
    }
  ],
  "metadata": {
    "kernelspec": {
      "display_name": "Python 3 (ipykernel)",
      "language": "python",
      "name": "python3"
    },
    "language_info": {
      "codemirror_mode": {
        "name": "ipython",
        "version": 3
      },
      "file_extension": ".py",
      "mimetype": "text/x-python",
      "name": "python",
      "nbconvert_exporter": "python",
      "pygments_lexer": "ipython3",
      "version": "3.9.7"
    },
    "colab": {
      "provenance": []
    }
  },
  "nbformat": 4,
  "nbformat_minor": 5
}