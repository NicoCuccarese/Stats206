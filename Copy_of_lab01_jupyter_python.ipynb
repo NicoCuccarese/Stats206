{
  "cells": [
    {
      "cell_type": "markdown",
      "id": "1f387caa",
      "metadata": {
        "id": "1f387caa"
      },
      "source": [
        "## Jupyter Notebook and Python Practice\n",
        "\n",
        "This lab we will practice using Jupyter Notebooks: writing formatted text in *Markdown* cells and python code in *Code* cells.\n",
        "\n",
        "**Save a copy** of this file so that you can edit it.\n",
        "\n",
        "Follow the prompts and edit the cells. Use the \"Run\" button to evaluate the cells (to either format the text or run the python code).\n",
        "\n",
        "### Part 1: Working with Markdown cells\n",
        "\n",
        "\n"
      ]
    },
    {
      "cell_type": "markdown",
      "id": "b230c2bb",
      "metadata": {
        "id": "b230c2bb"
      },
      "source": [
        "This cell is *Markdown*. Double click to edit it. Use bullets to write your name, your uniqname, and your section.\n",
        "\n",
        "* **Name**: Nico Cuccaresee\n",
        "* **uniqname**: nicocu\n",
        "* **Section Number**: Section 1"
      ]
    },
    {
      "cell_type": "markdown",
      "id": "e973ad04",
      "metadata": {
        "id": "e973ad04"
      },
      "source": [
        "You can also use the tool bar in Google Colab to help you write Markdown. In Great Lakes you will need to be able to write the Markdown directly, so it would be good to bookmark this [Guide to Markdown](https://docs.github.com/en/get-started/writing-on-github/getting-started-with-writing-and-formatting-on-github/basic-writing-and-formatting-syntax)).\n",
        "\n",
        "Click on this cell. Now click on the `Insert -> Text Cell\"` menu item to create a new Markdown cell.\n",
        "\n",
        "Open up a new tab with [our Canvas page](https://umich.instructure.com/courses/615553). Add add the following items in your new markdown cell:\n",
        "\n",
        "* A large header with the name of this course.\n",
        "* A bulleted list with the meeting time and the 3 lab times for your section.\n",
        "* Make your lab section bold so you don't forget. `;-)`.\n",
        "* Add a link to the pandas documentation at `https://pandas.pydata.org/` so it can be easily reached later.\n",
        "\n",
        "Run the cell to see the formatting.\n"
      ]
    },
    {
      "cell_type": "markdown",
      "source": [
        "# Stats 206\n",
        "\n",
        "\n",
        "*   **Lab: 8:30 to 10:00**\n",
        "*   Lecture: MW 8:30 to 10:00 <br/>  \n",
        "\n",
        "Link to pandas documentation: https://pandas.pydata.org/ or\n",
        "<br/> [pandas](https://pandas.pydata.org/)"
      ],
      "metadata": {
        "id": "C9fmFHyykt1_"
      },
      "id": "C9fmFHyykt1_"
    },
    {
      "cell_type": "markdown",
      "id": "2cdd1c68",
      "metadata": {
        "id": "2cdd1c68"
      },
      "source": [
        "### Part 2: Python Cells\n",
        "\n",
        "Below is a Python cell. Click on the cell and click the Run button. Do it again. What do you notice?"
      ]
    },
    {
      "cell_type": "code",
      "execution_count": 1,
      "id": "f31a8901",
      "metadata": {
        "id": "f31a8901",
        "colab": {
          "base_uri": "https://localhost:8080/"
        },
        "outputId": "d4c5b851-dc60-463a-c7b6-9627eeb792e4"
      },
      "outputs": [
        {
          "output_type": "execute_result",
          "data": {
            "text/plain": [
              "datetime.datetime(2024, 1, 23, 13, 51, 40, 695067)"
            ]
          },
          "metadata": {},
          "execution_count": 1
        }
      ],
      "source": [
        "import datetime\n",
        "datetime.datetime.now()"
      ]
    },
    {
      "cell_type": "markdown",
      "id": "ed36a342",
      "metadata": {
        "id": "ed36a342"
      },
      "source": [
        "Next we have three cells. Run each in order."
      ]
    },
    {
      "cell_type": "code",
      "execution_count": 5,
      "id": "cdb06561",
      "metadata": {
        "id": "cdb06561"
      },
      "outputs": [],
      "source": [
        "# Cell 1\n",
        "then = datetime.datetime.now()"
      ]
    },
    {
      "cell_type": "code",
      "execution_count": 3,
      "id": "3a1cf770",
      "metadata": {
        "id": "3a1cf770"
      },
      "outputs": [],
      "source": [
        "# Cell 2\n",
        "now = datetime.datetime.now()"
      ]
    },
    {
      "cell_type": "code",
      "execution_count": 6,
      "id": "8aa3d98e",
      "metadata": {
        "id": "8aa3d98e",
        "colab": {
          "base_uri": "https://localhost:8080/"
        },
        "outputId": "887964a3-8018-42f0-f10c-3290b0afbb9b"
      },
      "outputs": [
        {
          "output_type": "execute_result",
          "data": {
            "text/plain": [
              "False"
            ]
          },
          "metadata": {},
          "execution_count": 6
        }
      ],
      "source": [
        "# Cell 3\n",
        "now > then"
      ]
    },
    {
      "cell_type": "markdown",
      "id": "7fbb4c13",
      "metadata": {
        "id": "7fbb4c13"
      },
      "source": [
        "Now go run `Cell 1` again. Then run `Cell 3`. What happens? Why is the case?\n",
        "\n",
        "If we *absolutely must* enforce having code execute in order, we need to place it into a single cell. Create a new code cell and copy and paste the code in the proper order."
      ]
    },
    {
      "cell_type": "markdown",
      "source": [
        "Sometimes we have too much code in a single cell. Run the cell below. We wanted to compute a reciprocal but ended up computing something totally different. (Note: the variable names here are to suggest what we *expected* to get, not what we will get when we run this.)"
      ],
      "metadata": {
        "id": "eM5QVS0BsNF9"
      },
      "id": "eM5QVS0BsNF9"
    },
    {
      "cell_type": "code",
      "execution_count": 8,
      "id": "950f158f",
      "metadata": {
        "id": "950f158f",
        "outputId": "c28790fa-c148-4a66-ab03-d5de81769938",
        "colab": {
          "base_uri": "https://localhost:8080/"
        }
      },
      "outputs": [
        {
          "output_type": "execute_result",
          "data": {
            "text/plain": [
              "2.0"
            ]
          },
          "metadata": {},
          "execution_count": 8
        }
      ],
      "source": [
        "this_absolutely_contains_a_positive_value = 2\n",
        "this_absolutely_contains_a_positive_value = this_absolutely_contains_a_positive_value^-1\n",
        "this_absolutely_contains_a_positive_value\n",
        "# Split here\n",
        "another_positive_value = this_absolutely_contains_a_positive_value + 1\n",
        "another_positive_value"
      ]
    },
    {
      "cell_type": "markdown",
      "source": [
        "Create a new code cell and just put the first three lines in it. Create a second cell with just the last two. Run these to see where the computations went wrong."
      ],
      "metadata": {
        "id": "OGrKZGXSsmN6"
      },
      "id": "OGrKZGXSsmN6"
    },
    {
      "cell_type": "code",
      "source": [
        "this_absolutely_contains_a_positive_value = 2\n",
        "#Changed to exponentiation instead of the bit wise operator\n",
        "this_absolutely_contains_a_positive_value = this_absolutely_contains_a_positive_value**-1\n",
        "this_absolutely_contains_a_positive_value"
      ],
      "metadata": {
        "id": "GTDC92z0swpK",
        "colab": {
          "base_uri": "https://localhost:8080/"
        },
        "outputId": "ac1c0b71-2001-41ea-b280-33b2fb43a937"
      },
      "id": "GTDC92z0swpK",
      "execution_count": 11,
      "outputs": [
        {
          "output_type": "execute_result",
          "data": {
            "text/plain": [
              "0.5"
            ]
          },
          "metadata": {},
          "execution_count": 11
        }
      ]
    },
    {
      "cell_type": "code",
      "source": [
        "another_positive_value = this_absolutely_contains_a_positive_value + 1\n",
        "another_positive_value"
      ],
      "metadata": {
        "colab": {
          "base_uri": "https://localhost:8080/"
        },
        "id": "zc_ZFZDwnuZ1",
        "outputId": "81f05223-3e9c-407d-f5b1-90b8a9f75cd4"
      },
      "id": "zc_ZFZDwnuZ1",
      "execution_count": 12,
      "outputs": [
        {
          "output_type": "execute_result",
          "data": {
            "text/plain": [
              "1.5"
            ]
          },
          "metadata": {},
          "execution_count": 12
        }
      ]
    },
    {
      "cell_type": "markdown",
      "id": "a8946906",
      "metadata": {
        "id": "a8946906"
      },
      "source": [
        "It turns out we confused the `^` operator (which performs a low level bit shift operation) with `**` (which performs exponention). We wanted to compute\n",
        "$$\\frac{1}{x}$$\n",
        "by raising a positive value to the \"-1\" power.\n",
        "\n",
        "Using `**` correct the code above and print out the result."
      ]
    },
    {
      "cell_type": "code",
      "execution_count": null,
      "id": "9bd48729",
      "metadata": {
        "id": "9bd48729"
      },
      "outputs": [],
      "source": [
        "this_absolutely_contains_a_positive_value = 2\n",
        "#Changed to exponentiation instead of the bit wise operator\n",
        "this_absolutely_contains_a_positive_value = this_absolutely_contains_a_positive_value**-1\n",
        "this_absolutely_contains_a_positive_value"
      ]
    },
    {
      "cell_type": "markdown",
      "id": "1799110f",
      "metadata": {
        "id": "1799110f"
      },
      "source": [
        "### Part 3: Python Practice\n",
        "\n",
        "In the following, we use python to compute a things related to the date of UM's founding: August 26, 1817. If you need help, use the \"Details\" box to get solutions.\n"
      ]
    },
    {
      "cell_type": "markdown",
      "id": "af2ed5d3",
      "metadata": {
        "id": "af2ed5d3"
      },
      "source": [
        "Below is a code cell. Create a variable called `founded` with the value 1817."
      ]
    },
    {
      "cell_type": "code",
      "execution_count": 14,
      "id": "d4f5249b",
      "metadata": {
        "id": "d4f5249b"
      },
      "outputs": [],
      "source": [
        "founded = 1817"
      ]
    },
    {
      "cell_type": "markdown",
      "id": "1344201d",
      "metadata": {
        "id": "1344201d"
      },
      "source": [
        "<details>\n",
        "\n",
        "```\n",
        "founded = 1817\n",
        "```\n",
        "\n",
        "</details>"
      ]
    },
    {
      "cell_type": "markdown",
      "id": "6c34fd2c",
      "metadata": {
        "id": "6c34fd2c"
      },
      "source": [
        "While we know what year it is, let's write a program that *use the date of execution* to figure out the current year.\n",
        "\n",
        "Similar to an earlier step, create a variable `now` that contains the result of `datetime.date.today()` (a function call that gets the current date)."
      ]
    },
    {
      "cell_type": "code",
      "execution_count": 15,
      "id": "d1a5b448",
      "metadata": {
        "id": "d1a5b448",
        "colab": {
          "base_uri": "https://localhost:8080/"
        },
        "outputId": "4d848aba-d601-4756-b630-946dc5527bd8"
      },
      "outputs": [
        {
          "output_type": "stream",
          "name": "stdout",
          "text": [
            "2024-01-23\n"
          ]
        }
      ],
      "source": [
        "now = datetime.date.today()\n",
        "print(now)"
      ]
    },
    {
      "cell_type": "markdown",
      "id": "9526ecac",
      "metadata": {
        "id": "9526ecac"
      },
      "source": [
        "# **<details>**\n",
        "\n",
        "```\n",
        "now = datetime.date.today()\n",
        "```\n",
        "\n",
        "</details>"
      ]
    },
    {
      "cell_type": "markdown",
      "id": "9a13ed40",
      "metadata": {
        "id": "9a13ed40"
      },
      "source": [
        "We can look inside `now` to find the year component by using `now.year`. Compute the number of years since the University of Michigan's founding without typing in any numbers."
      ]
    },
    {
      "cell_type": "code",
      "execution_count": 19,
      "id": "474412ed",
      "metadata": {
        "id": "474412ed",
        "colab": {
          "base_uri": "https://localhost:8080/"
        },
        "outputId": "9b00d4b9-b6ed-462a-9e86-98383229e133"
      },
      "outputs": [
        {
          "output_type": "stream",
          "name": "stdout",
          "text": [
            "207\n"
          ]
        }
      ],
      "source": [
        "michigans_founding_year = 1817\n",
        "some_random_variable = now.year - michigans_founding_year\n",
        "print(some_random_variable)"
      ]
    },
    {
      "cell_type": "markdown",
      "id": "f7120637",
      "metadata": {
        "id": "f7120637"
      },
      "source": [
        "<details>\n",
        "\n",
        "```\n",
        "now.year - founded\n",
        "```\n",
        "\n",
        "</details>"
      ]
    },
    {
      "cell_type": "markdown",
      "id": "6a9fbfdd",
      "metadata": {
        "id": "6a9fbfdd"
      },
      "source": [
        "We can even compute the number of days since August 26, 1817 to today by creating a new `datetime` object.\n",
        "\n",
        "The International Standards Organization date format is YEAR-MONTH-DAY, with 4 digit years, two digit months, and two digit days. Use `datetime.date.fromisoformat(\"UMICH'S FOUNDING\")` to create a new variable `founding` that holds the date of UM's founding. Print out the variable to check your work."
      ]
    },
    {
      "cell_type": "code",
      "execution_count": 21,
      "id": "d0849769",
      "metadata": {
        "id": "d0849769"
      },
      "outputs": [],
      "source": [
        "founding = datetime.date.fromisoformat(\"1817-08-26\")\n"
      ]
    },
    {
      "cell_type": "markdown",
      "id": "2bc9f3f1",
      "metadata": {
        "id": "2bc9f3f1"
      },
      "source": [
        "<details>\n",
        "\n",
        "```\n",
        "founding = datetime.date.fromisoformat(\"1817-08-26\")\n",
        "founding\n",
        "```\n",
        "\n",
        "</details>"
      ]
    },
    {
      "cell_type": "markdown",
      "id": "a852fbe6",
      "metadata": {
        "id": "a852fbe6"
      },
      "source": [
        "Use the `-` operator to compute the difference between `now` and `founding`. For how many days has UM existed?"
      ]
    },
    {
      "cell_type": "code",
      "execution_count": 23,
      "id": "1c3fbaa1",
      "metadata": {
        "id": "1c3fbaa1",
        "colab": {
          "base_uri": "https://localhost:8080/"
        },
        "outputId": "93908a3c-37b5-45c6-b390-5910b410b5d9"
      },
      "outputs": [
        {
          "output_type": "stream",
          "name": "stdout",
          "text": [
            "75390 days, 0:00:00\n"
          ]
        }
      ],
      "source": [
        "totaldays = now - founding\n",
        "print(totaldays)"
      ]
    },
    {
      "cell_type": "markdown",
      "id": "8c8e567a",
      "metadata": {
        "id": "8c8e567a"
      },
      "source": [
        "<details>\n",
        "\n",
        "```\n",
        "now - founding\n",
        "```\n",
        "\n",
        "</details>"
      ]
    },
    {
      "cell_type": "markdown",
      "id": "c0137ae1",
      "metadata": {
        "id": "c0137ae1"
      },
      "source": [
        "This is an example of *abstraction*: we can take the difference of many things (numbers, dates, more that we will see). The `-` focuses our attention on differences, but allows each data type to figure out what a difference means in practical terms."
      ]
    },
    {
      "cell_type": "code",
      "source": [],
      "metadata": {
        "id": "b4mzgPC1qdfr"
      },
      "id": "b4mzgPC1qdfr",
      "execution_count": null,
      "outputs": []
    },
    {
      "cell_type": "markdown",
      "id": "8e0ea6cd",
      "metadata": {
        "id": "8e0ea6cd"
      },
      "source": [
        "### Part 4: Collections, Functions, and Loops\n",
        "\n",
        "Here is a set of dates as strings:"
      ]
    },
    {
      "cell_type": "code",
      "execution_count": 28,
      "id": "5ab54298",
      "metadata": {
        "id": "5ab54298"
      },
      "outputs": [],
      "source": [
        "michigan_statehood = \"1837-01-26\"\n",
        "mackinac_national_park = \"1857-03-03\"\n",
        "ford_motor_co = \"1903-06-16\"\n",
        "joe_louis_wins = \"1937-06-22\"\n",
        "macinaw_bridge = \"1957-11-01\"\n",
        "gerald_ford_president = \"1974-08-09\""
      ]
    },
    {
      "cell_type": "markdown",
      "id": "d6f47367",
      "metadata": {
        "id": "d6f47367"
      },
      "source": [
        "Write a function that will turn a string into a date and compute the number of days since the founding of UM. Demonstrate on several of the dates."
      ]
    },
    {
      "cell_type": "code",
      "execution_count": null,
      "id": "ecf2e02c",
      "metadata": {
        "id": "ecf2e02c"
      },
      "outputs": [],
      "source": [
        "founding = datetime.date.fromisoformat(\"1817-08-26\")\n",
        "founding"
      ]
    },
    {
      "cell_type": "code",
      "execution_count": 29,
      "id": "2c8ce906",
      "metadata": {
        "id": "2c8ce906",
        "colab": {
          "base_uri": "https://localhost:8080/"
        },
        "outputId": "b37bd330-4482-4f0b-aec8-99df0c9a597a"
      },
      "outputs": [
        {
          "output_type": "execute_result",
          "data": {
            "text/plain": [
              "datetime.timedelta(days=-7093)"
            ]
          },
          "metadata": {},
          "execution_count": 29
        }
      ],
      "source": [
        "founding - datetime.date.fromisoformat(michigan_statehood)"
      ]
    },
    {
      "cell_type": "code",
      "execution_count": 30,
      "id": "82d60c43",
      "metadata": {
        "id": "82d60c43",
        "colab": {
          "base_uri": "https://localhost:8080/"
        },
        "outputId": "70aefe41-609c-4b7c-9704-9503daabe72a"
      },
      "outputs": [
        {
          "output_type": "execute_result",
          "data": {
            "text/plain": [
              "datetime.timedelta(days=-57326)"
            ]
          },
          "metadata": {},
          "execution_count": 30
        }
      ],
      "source": [
        "founding - datetime.date.fromisoformat(gerald_ford_president)"
      ]
    },
    {
      "cell_type": "code",
      "execution_count": 31,
      "id": "5cb11027",
      "metadata": {
        "id": "5cb11027",
        "colab": {
          "base_uri": "https://localhost:8080/"
        },
        "outputId": "710fec8e-aa8f-47b9-ff05-269b49daa36d"
      },
      "outputs": [
        {
          "output_type": "execute_result",
          "data": {
            "text/plain": [
              "datetime.timedelta(days=7093)"
            ]
          },
          "metadata": {},
          "execution_count": 31
        }
      ],
      "source": [
        "def date_since(date_str):\n",
        "    date_date = datetime.date.fromisoformat(date_str)\n",
        "    diff = date_date - founding\n",
        "    return diff\n",
        "\n",
        "date_since(michigan_statehood)"
      ]
    },
    {
      "cell_type": "code",
      "execution_count": 32,
      "id": "49ff8dae",
      "metadata": {
        "id": "49ff8dae",
        "colab": {
          "base_uri": "https://localhost:8080/"
        },
        "outputId": "235144aa-5552-4c0b-a799-611eb04750b7"
      },
      "outputs": [
        {
          "output_type": "execute_result",
          "data": {
            "text/plain": [
              "datetime.timedelta(days=43764)"
            ]
          },
          "metadata": {},
          "execution_count": 32
        }
      ],
      "source": [
        "date_since(joe_louis_wins)"
      ]
    },
    {
      "cell_type": "code",
      "execution_count": 33,
      "id": "0b726e45",
      "metadata": {
        "id": "0b726e45",
        "colab": {
          "base_uri": "https://localhost:8080/"
        },
        "outputId": "585665a4-847e-4a33-fb09-cd1d4e1d1d0c"
      },
      "outputs": [
        {
          "output_type": "execute_result",
          "data": {
            "text/plain": [
              "datetime.timedelta(days=75232)"
            ]
          },
          "metadata": {},
          "execution_count": 33
        }
      ],
      "source": [
        "date_since(\"2023-08-18\")"
      ]
    },
    {
      "cell_type": "markdown",
      "id": "6ba7df78",
      "metadata": {
        "id": "6ba7df78"
      },
      "source": [
        "<details>\n",
        "\n",
        "```\n",
        "def days_since_founding(d):\n",
        "    dd = datetime.date.fromisoformat(d)\n",
        "    return dd - founding\n",
        "\n",
        "```\n",
        "</details>"
      ]
    },
    {
      "cell_type": "markdown",
      "id": "1616b08f",
      "metadata": {
        "id": "1616b08f"
      },
      "source": [
        "Create a list that includes all of the dates. (*Useful tip: start typing the variable name and hit \"tab\" to autocomplete the rest of the name.*)"
      ]
    },
    {
      "cell_type": "code",
      "execution_count": 34,
      "id": "3b508835",
      "metadata": {
        "id": "3b508835"
      },
      "outputs": [],
      "source": [
        "dates = [michigan_statehood, mackinac_national_park, ford_motor_co, joe_louis_wins, gerald_ford_president]"
      ]
    },
    {
      "cell_type": "markdown",
      "id": "d95e42dc",
      "metadata": {
        "id": "d95e42dc"
      },
      "source": [
        "<details>\n",
        "\n",
        "```\n",
        "dates = [michigan_statehood,\n",
        "         mackinac_national_park,\n",
        "         ford_motor_co,\n",
        "         joe_louis_wins,\n",
        "         macinaw_bridge,\n",
        "         gerald_ford_president]\n",
        "\n",
        "```\n",
        "\n",
        "</details>"
      ]
    },
    {
      "cell_type": "markdown",
      "id": "483819bd",
      "metadata": {
        "id": "483819bd"
      },
      "source": [
        "Now write a `for` loop to compute the days since founding for each item in the list. You can use the `print` function to display these results to the screen."
      ]
    },
    {
      "cell_type": "code",
      "execution_count": 36,
      "id": "c9e8f796",
      "metadata": {
        "id": "c9e8f796",
        "colab": {
          "base_uri": "https://localhost:8080/"
        },
        "outputId": "c83d9b6c-0972-4047-e58b-7dfac170c0f1"
      },
      "outputs": [
        {
          "output_type": "stream",
          "name": "stdout",
          "text": [
            "1837-01-26\n",
            "1857-03-03\n",
            "1903-06-16\n",
            "1937-06-22\n",
            "1974-08-09\n"
          ]
        }
      ],
      "source": [
        "for d in dates:\n",
        "  date_since(d)\n",
        "  print (d)"
      ]
    },
    {
      "cell_type": "markdown",
      "id": "69da593a",
      "metadata": {
        "id": "69da593a"
      },
      "source": [
        "<details>\n",
        "\n",
        "```\n",
        "for d in dates:\n",
        "    print(days_since_founding(d))\n",
        "    \n",
        "```\n",
        "</details>"
      ]
    },
    {
      "cell_type": "markdown",
      "id": "917d56a7",
      "metadata": {
        "id": "917d56a7"
      },
      "source": [
        "Use a list comprehension to create a new list with the number of days since founding."
      ]
    },
    {
      "cell_type": "code",
      "execution_count": 37,
      "id": "6a56ec79",
      "metadata": {
        "id": "6a56ec79",
        "colab": {
          "base_uri": "https://localhost:8080/"
        },
        "outputId": "9c9a0f21-603d-4d2d-9dcd-eb6a291145df"
      },
      "outputs": [
        {
          "output_type": "execute_result",
          "data": {
            "text/plain": [
              "[datetime.timedelta(days=7093),\n",
              " datetime.timedelta(days=14434),\n",
              " datetime.timedelta(days=31339),\n",
              " datetime.timedelta(days=43764),\n",
              " datetime.timedelta(days=57326)]"
            ]
          },
          "metadata": {},
          "execution_count": 37
        }
      ],
      "source": [
        "[date_since(d) for d in dates]"
      ]
    },
    {
      "cell_type": "markdown",
      "id": "a3ca3aa5",
      "metadata": {
        "id": "a3ca3aa5"
      },
      "source": [
        "<details>\n",
        "\n",
        "```\n",
        "[days_since_founding(d) for d in dates]\n",
        "```\n",
        "\n",
        "</details>\n"
      ]
    }
  ],
  "metadata": {
    "kernelspec": {
      "display_name": "Python 3 (ipykernel)",
      "language": "python",
      "name": "python3"
    },
    "language_info": {
      "codemirror_mode": {
        "name": "ipython",
        "version": 3
      },
      "file_extension": ".py",
      "mimetype": "text/x-python",
      "name": "python",
      "nbconvert_exporter": "python",
      "pygments_lexer": "ipython3",
      "version": "3.9.7"
    },
    "colab": {
      "provenance": []
    }
  },
  "nbformat": 4,
  "nbformat_minor": 5
}