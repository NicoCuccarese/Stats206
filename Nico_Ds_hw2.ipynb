{
  "cells": [
    {
      "cell_type": "markdown",
      "metadata": {
        "id": "view-in-github",
        "colab_type": "text"
      },
      "source": [
        "<a href=\"https://colab.research.google.com/github/NicoCuccarese/Stats206/blob/main/Nico_Ds_hw2.ipynb\" target=\"_parent\"><img src=\"https://colab.research.google.com/assets/colab-badge.svg\" alt=\"Open In Colab\"/></a>"
      ]
    },
    {
      "cell_type": "code",
      "execution_count": null,
      "metadata": {
        "colab": {
          "background_save": true
        },
        "id": "_H14U0xWHcKn"
      },
      "outputs": [],
      "source": [
        "import numpy as np # run this first"
      ]
    },
    {
      "cell_type": "markdown",
      "metadata": {
        "id": "2NZ5XNpp4leA"
      },
      "source": [
        "# Homework 2, Stats 206/DataSci 101\n",
        "\n",
        "\n",
        "## Question 1\n",
        "\n",
        "We will start this homework with some questions on collections in Python.\n",
        "\n",
        "### Q1.a\n",
        "\n",
        "Recall that *sets* are collections where each value in the collection only appears once.\n",
        "\n",
        "Using the `set` function, turn both of these strings into sets. Then use set methods to find\n",
        "\n",
        "* How many letters are shared between the two names?\n",
        "* Which letters are in \"George Washington\" that are not in \"Abraham Lincoln\"?\n",
        "* How many letters are in neither president's name?\n",
        "\n",
        "\n"
      ]
    },
    {
      "cell_type": "code",
      "execution_count": null,
      "metadata": {
        "id": "waASQf8-8nnX"
      },
      "outputs": [],
      "source": [
        "gw = \"George Washington\".lower()\n",
        "al = \"Abraham Lincoln\".lower()\n",
        "az = \"abcdefghijklmnopqrstuvwxyz\"\n"
      ]
    },
    {
      "cell_type": "code",
      "execution_count": null,
      "metadata": {
        "id": "_VUZtbq9itbf"
      },
      "outputs": [],
      "source": [
        "gwset = set(gw)\n",
        "alset = set(al)\n",
        "azset = set(az)\n",
        "print(len(gwset.intersection(alset)))\n",
        "print(gwset.difference(alset))\n",
        "# Made a combined set to just take the diff of the alphabet.\n",
        "combined_set = gwset.union(alset);\n",
        "print(len(azset.difference(combined_set)))\n"
      ]
    },
    {
      "cell_type": "markdown",
      "metadata": {
        "id": "Xknh5JH70J7O"
      },
      "source": [
        "\n",
        "### Q1.b\n",
        "\n",
        "\n",
        "\n",
        "Use a `for` loop to find the unique values in the lunch orders below. Using Python, print out the number of unique items being ordered. (*Hint*: You can use `set()` to create an empty set.)"
      ]
    },
    {
      "cell_type": "code",
      "execution_count": null,
      "metadata": {
        "id": "sQp_lIlpbfx0"
      },
      "outputs": [],
      "source": [
        "lunch_orders = [{\"pasta\", \"coffee\"},\n",
        "                {\"fries\",\"sandwich\", \"cookie\"},\n",
        "                {\"pasta\", \"salad\", \"water\"},\n",
        "                {\"salad\", \"pasta\", \"coffee\"},\n",
        "                {\"sandwich\", \"water\"}]"
      ]
    },
    {
      "cell_type": "code",
      "execution_count": null,
      "metadata": {
        "id": "Rh2hOZeUiwBS"
      },
      "outputs": [],
      "source": [
        "unique_items_set = set()\n",
        "\n",
        "for order_set in lunch_orders:\n",
        "    unique_items_set.update(order_set)\n",
        "len(unique_items_set)"
      ]
    },
    {
      "cell_type": "markdown",
      "metadata": {
        "id": "RAhOxUav3vcw"
      },
      "source": [
        "### Q1.c\n",
        "\n",
        "Here is a menu at the resturant, with items and their cost:\n",
        "\n",
        "| Item | Price | Vegetarian |\n",
        "| --- | --- | --- |\n",
        "| salad | 8 | True |\n",
        "| soup | 5 | False |\n",
        "| pasta | 12 | True |\n",
        "| sandwich | 9 | False |\n",
        "| burger | 13 | False |\n",
        "| fries | 6 | True |\n",
        "| cake | 6 | True |\n",
        "| cookie| 3 | True |\n",
        "| water | 0 | True |\n",
        "| coffee| 2 | True |\n",
        "| soda | 3 | True |\n",
        "\n",
        "Create a dictionary called `menu` that has the item names as keys and a two-tuple with (price, vegetarian) as the value.\n",
        "\n",
        "Demonstrate by retrieving the price and vegetarian status of \"burger\".\n",
        "\n"
      ]
    },
    {
      "cell_type": "code",
      "execution_count": null,
      "metadata": {
        "id": "osxZur9aAb9i"
      },
      "outputs": [],
      "source": [
        "menu = {\n",
        "    \"salad\": (8, True),\n",
        "    \"soup\": (5, False),\n",
        "    \"pasta\": (12, True),\n",
        "    \"sandwich\": (9, False),\n",
        "    \"burger\": (13, False),\n",
        "    \"fries\": (6, True),\n",
        "    \"cake\": (6, True),\n",
        "    \"cookie\": (3, True),\n",
        "    \"water\": (0, True),\n",
        "    \"coffee\": (2, True),\n",
        "    \"soda\": (3, True)\n",
        "}\n",
        "\n",
        "burger_info = menu[\"burger\"]\n",
        "print(burger_info)"
      ]
    },
    {
      "cell_type": "markdown",
      "metadata": {
        "id": "wWmXQDbZCYDa"
      },
      "source": [
        "### Q1.d\n",
        "\n",
        "Write a function that takes a lunch order (a set of menu items) and returns the total price.\n",
        "\n",
        "Write a function that takes a lunch order a returns true if the entire order is vegetarian.\n",
        "\n",
        "Use list comprehensions to compute the price of each order and whether each order is vegtarian.\n"
      ]
    },
    {
      "cell_type": "code",
      "execution_count": null,
      "metadata": {
        "id": "gQpr5B7PC6mm"
      },
      "outputs": [],
      "source": [
        "# Hints: try running the following code\n",
        "# (\"this\", \"is\", \"a tuple\")[1]\n",
        "# [s.upper() for s in {\"hello\", \"world\"}\n",
        "def calculate_total_price(order_set):\n",
        "  return sum(menu[item][0] for item in order_set)\n",
        "\n",
        "def is_vegetarian(order_set):\n",
        "  if all(menu[item][1] for item in order_set):\n",
        "    return True;\n",
        "  else:\n",
        "    return False;\n",
        "\n",
        "def calculate_order_info(sample_order_set):\n",
        "  print(calculate_total_price(sample_order_set), is_vegetarian(sample_order_set))\n",
        "\n"
      ]
    },
    {
      "cell_type": "markdown",
      "metadata": {
        "id": "uHpiTG5ofaR0"
      },
      "source": [
        "### Q1.e\n",
        "\n",
        "When you have completed your menu in the part (c) you can remove the `#` charcters make this code run:"
      ]
    },
    {
      "cell_type": "code",
      "execution_count": null,
      "metadata": {
        "id": "SpyRataufoTw"
      },
      "outputs": [],
      "source": [
        "menu_dict = {\n",
        "  \"name\": list(menu.keys()),\n",
        "  \"price\": [i[0] for i in menu.values()],\n",
        "  \"vegetarian\": [i[1] for i in menu.values()]\n",
        " }"
      ]
    },
    {
      "cell_type": "markdown",
      "metadata": {
        "id": "ITf782vvf1Dd"
      },
      "source": [
        "Use this table to compute the following:\n",
        "\n",
        "* What is the price of the most expensive item in the list?\n",
        "* What is the name of the most expensive item? (You can use the `np.argmax()` function to help you.)\n",
        "* How many vegetarian items are there?"
      ]
    },
    {
      "cell_type": "code",
      "execution_count": null,
      "metadata": {
        "id": "55orbZ7zG8GG"
      },
      "outputs": [],
      "source": [
        "\n",
        "print(max(menu_dict[\"price\"]))\n",
        "index_of_max_price = menu_dict[\"price\"].index(max(menu_dict[\"price\"]))\n",
        "print(menu_dict[\"name\"][index_of_max_price])\n",
        "print(sum(menu_dict[\"vegetarian\"]))"
      ]
    },
    {
      "cell_type": "markdown",
      "metadata": {
        "id": "grzDvm0zP31o"
      },
      "source": [
        "### Question 2\n"
      ]
    },
    {
      "cell_type": "code",
      "execution_count": null,
      "metadata": {
        "id": "x0_D3yP80J7P"
      },
      "outputs": [],
      "source": [
        "# run this to do question 2\n",
        "import pandas as pd"
      ]
    },
    {
      "cell_type": "markdown",
      "metadata": {
        "id": "BkVVPRJcUCUp"
      },
      "source": [
        "### Q2.a\n",
        "\n",
        "Here's a Pandas `DataFrame` version of our menu table."
      ]
    },
    {
      "cell_type": "code",
      "execution_count": null,
      "metadata": {
        "id": "snaIdr8WUBe-"
      },
      "outputs": [],
      "source": [
        "menu_df = pd.DataFrame({'name': ['salad',\n",
        "  'soup',\n",
        "  'pasta',\n",
        "  'sandwich',\n",
        "  'burger',\n",
        "  'fries',\n",
        "  'cake',\n",
        "  'cookie',\n",
        "  'water',\n",
        "  'coffee',\n",
        "  'soda'],\n",
        " 'price': [8, 5, 12, 9, 13, 6, 6, 3, 0, 2, 3],\n",
        " 'vegetarian': [True,\n",
        "  False,\n",
        "  True,\n",
        "  False,\n",
        "  False,\n",
        "  True,\n",
        "  True,\n",
        "  True,\n",
        "  True,\n",
        "  True,\n",
        "  True]})"
      ]
    },
    {
      "cell_type": "markdown",
      "metadata": {
        "id": "ZiEvNdCyUX1M"
      },
      "source": [
        "Using **methods** for Series objects (i.e., methods called on the columns of the table. Compute the following:\n",
        "\n",
        "* The name of the least expensive item on the list.\n",
        "* The number of items that cost between 5 and 10 dollars (inclusive).\n",
        "* The names all of vegetarian items that cost more than 10 dollars."
      ]
    },
    {
      "cell_type": "code",
      "execution_count": 75,
      "metadata": {
        "id": "fw4J6mICi8LL",
        "colab": {
          "base_uri": "https://localhost:8080/"
        },
        "outputId": "7d7bdf34-1220-4f99-d6e7-ce9212913452"
      },
      "outputs": [
        {
          "output_type": "stream",
          "name": "stdout",
          "text": [
            "water\n",
            "5\n",
            "['pasta']\n"
          ]
        }
      ],
      "source": [
        "print(menu_df.loc[menu_df['price'].idxmin(), 'name'])\n",
        "print(menu_df[(menu_df['price'] >= 5) & (menu_df['price'] <= 10)].shape[0])\n",
        "print(menu_df[(menu_df['vegetarian'] == True) & (menu_df['price'] > 10)]['name'].tolist())"
      ]
    },
    {
      "cell_type": "markdown",
      "metadata": {
        "id": "IxMOJDWLVpBO"
      },
      "source": [
        "### Q2.b\n",
        "\n",
        "Create a table that is only composed of items that cost less than or equal to $5.\n",
        "\n",
        "How many vegtarian items are in this menu?"
      ]
    },
    {
      "cell_type": "code",
      "execution_count": 76,
      "metadata": {
        "id": "BmYrTUJ2VoqH",
        "colab": {
          "base_uri": "https://localhost:8080/"
        },
        "outputId": "5f896008-f862-4fb5-9088-b83158d11e28"
      },
      "outputs": [
        {
          "output_type": "stream",
          "name": "stdout",
          "text": [
            "4\n"
          ]
        }
      ],
      "source": [
        "cheap_menu_df = menu_df[menu_df['price'] <= 5]\n",
        "print(cheap_menu_df['vegetarian'].sum())"
      ]
    },
    {
      "cell_type": "markdown",
      "metadata": {
        "id": "H3IWsTzFRpIe"
      },
      "source": [
        "## Q2.c\n",
        "\n",
        "Let's use these techniques on some real data!"
      ]
    },
    {
      "cell_type": "code",
      "execution_count": null,
      "metadata": {
        "id": "wQI1-e-50OVI"
      },
      "outputs": [],
      "source": [
        "from google.colab import drive\n",
        "drive.mount('/content/gdrive')"
      ]
    },
    {
      "cell_type": "code",
      "execution_count": 77,
      "metadata": {
        "id": "iDD_Ffg30J7Q",
        "colab": {
          "base_uri": "https://localhost:8080/"
        },
        "outputId": "6fb7667c-a5df-4c70-e82a-64f9e1f56402"
      },
      "outputs": [
        {
          "output_type": "execute_result",
          "data": {
            "text/plain": [
              "Index(['duration_ms', 'track.explicit', 'key', 'danceability', 'energy',\n",
              "       'loudness', 'acousticness', 'instrumentalness', 'liveness', 'tempo',\n",
              "       'time_signature', 'track.popularity', 'track.album.release_date',\n",
              "       'track.name', 'artist.name'],\n",
              "      dtype='object')"
            ]
          },
          "metadata": {},
          "execution_count": 77
        }
      ],
      "source": [
        "spotify = pd.read_csv(\"/content/gdrive/MyDrive/Stats 206 Winter 2024/data/spotify.csv\")\n",
        "spotify.columns"
      ]
    },
    {
      "cell_type": "markdown",
      "metadata": {
        "id": "CqYl9f6rZSg1"
      },
      "source": [
        "Using Python and Pandas, answer the following questions:\n",
        "\n",
        "* How many songs have a popularity greater than 80?\n",
        "* For songs with a popularity greater than 80, what is the shortest song (in miliseconds)?\n",
        "* What is the name of the song with popularity greater than 80 that has the slowest tempo?"
      ]
    },
    {
      "cell_type": "code",
      "execution_count": 90,
      "metadata": {
        "id": "DKcrf5nyaaRX",
        "colab": {
          "base_uri": "https://localhost:8080/"
        },
        "outputId": "b7cdc9d6-6c24-4003-f821-bfbf34fdbe75"
      },
      "outputs": [
        {
          "output_type": "stream",
          "name": "stdout",
          "text": [
            "84\n",
            "109091\n",
            "Lover\n"
          ]
        }
      ],
      "source": [
        "popular_songs = spotify[spotify['track.popularity'] > 80]\n",
        "print(popular_songs.shape[0])\n",
        "print(popular_songs['duration_ms'].min())\n",
        "index_of_slowest_tempo = popular_songs['tempo'].idxmin()\n",
        "print(popular_songs.loc[index_of_slowest_tempo, 'track.name'])"
      ]
    },
    {
      "cell_type": "markdown",
      "metadata": {
        "id": "1_owMA_3gfMS"
      },
      "source": [
        "### Q2.d\n",
        "\n",
        "Here is a litte code that will create a new column with four (approximately) evenly sized groups based on popularly (low, medium, medium high, and high). The code after creating the columns shows how many rows are in each group. There are a few songs with the same popularity value, which makes it difficult to get exactly evenly sized groups, but this is pretty close. The `(a, b]` output on the left shows the popularity range of that group."
      ]
    },
    {
      "cell_type": "code",
      "execution_count": 68,
      "metadata": {
        "id": "1QQ5D619g0fK",
        "colab": {
          "base_uri": "https://localhost:8080/"
        },
        "outputId": "b6bb92f1-20b9-4d43-b6c9-ca6df064615a"
      },
      "outputs": [
        {
          "output_type": "execute_result",
          "data": {
            "text/plain": [
              "(-0.001, 41.0]    250\n",
              "(53.0, 67.0]      242\n",
              "(67.0, 100.0]     238\n",
              "(41.0, 53.0]      237\n",
              "Name: popgrp, dtype: int64"
            ]
          },
          "metadata": {},
          "execution_count": 68
        }
      ],
      "source": [
        "spotify[\"popgrp\"] = pd.qcut(spotify[\"track.popularity\"], 4)\n",
        "spotify[\"popgrp\"].value_counts()"
      ]
    },
    {
      "cell_type": "markdown",
      "metadata": {
        "id": "w1JMsKx8hVMp"
      },
      "source": [
        "For each group, find the number of explicit songs using the `\"track.explicit\"` column. Which group has the most explicit songs?"
      ]
    },
    {
      "cell_type": "code",
      "execution_count": 69,
      "metadata": {
        "id": "E1qqVtcCiIH7",
        "colab": {
          "base_uri": "https://localhost:8080/"
        },
        "outputId": "bad6e2c8-4623-48b7-93bc-eeb0498ae156"
      },
      "outputs": [
        {
          "output_type": "stream",
          "name": "stdout",
          "text": [
            "popgrp\n",
            "(-0.001, 41.0]    29\n",
            "(41.0, 53.0]      24\n",
            "(53.0, 67.0]      32\n",
            "(67.0, 100.0]     73\n",
            "Name: track.explicit, dtype: int64\n"
          ]
        }
      ],
      "source": [
        "explicit_by_group = spotify.groupby(\"popgrp\")[\"track.explicit\"].sum()\n",
        "print(explicit_by_group)"
      ]
    },
    {
      "cell_type": "markdown",
      "metadata": {
        "id": "BDvmJcf_hsRh"
      },
      "source": [
        "### Q2.e\n",
        "\n",
        "Create a new column that is the product of `danceability` and `energy`. Find the song with the highest product of danceability and energy. Find the tempo of this song. Is it a particularly fast song in terms of tempo? How many songs are faster than this song? How many are slower?"
      ]
    },
    {
      "cell_type": "code",
      "execution_count": 86,
      "metadata": {
        "id": "HX4v6OOuibFi",
        "colab": {
          "base_uri": "https://localhost:8080/"
        },
        "outputId": "0cedefca-7d9e-4e24-b702-19b27e6e9515"
      },
      "outputs": [
        {
          "output_type": "stream",
          "name": "stdout",
          "text": [
            "The song with the highest product of danceability and energy is 'Miracle - Radio Edit' with a tempo of 121.98.\n",
            "There are 394 songs faster than this song, and 571 songs slower.\n"
          ]
        }
      ],
      "source": [
        "spotify['dance_energy_product'] = spotify['danceability'] * spotify['energy']\n",
        "highest_product_index = spotify['dance_energy_product'].idxmax()\n",
        "highest_product_song = spotify.loc[highest_product_index]\n",
        "highest_product_tempo = highest_product_song['tempo']\n",
        "faster_songs_count = (spotify['tempo'] > highest_product_tempo).sum()\n",
        "slower_songs_count = (spotify['tempo'] < highest_product_tempo).sum()\n",
        "print(f\"The song with the highest product of danceability and energy is '{highest_product_song['track.name']}' \"\n",
        "      f\"with a tempo of {highest_product_tempo}.\")\n",
        "print(f\"There are {faster_songs_count} songs faster than this song, and {slower_songs_count} songs slower.\")"
      ]
    }
  ],
  "metadata": {
    "colab": {
      "provenance": [],
      "include_colab_link": true
    },
    "jupytext": {
      "cell_metadata_filter": "-all",
      "main_language": "python",
      "notebook_metadata_filter": "-all"
    },
    "kernelspec": {
      "display_name": "Python 3 (ipykernel)",
      "language": "python",
      "name": "python3"
    },
    "language_info": {
      "codemirror_mode": {
        "name": "ipython",
        "version": 3
      },
      "file_extension": ".py",
      "mimetype": "text/x-python",
      "name": "python",
      "nbconvert_exporter": "python",
      "pygments_lexer": "ipython3",
      "version": "3.9.7"
    }
  },
  "nbformat": 4,
  "nbformat_minor": 0
}