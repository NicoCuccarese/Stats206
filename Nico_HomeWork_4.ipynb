{
  "cells": [
    {
      "cell_type": "markdown",
      "id": "8d2f1df2",
      "metadata": {
        "id": "8d2f1df2"
      },
      "source": [
        "# Homework 4\n",
        "\n",
        "Please use the `File -> Download .ipynb` and submit through Canvas/Gradescope.\n",
        "\n",
        "This assignment will continue to use the American Community Survey (ACS) from the US Census.\n",
        "You will need to refer to the documentation to know what the ACS variable names mean. You can find a copy of the codebook in the [Lab 3 folder on Google Drive](https://drive.google.com/drive/folders/1xxiRKjAW3hKotLn8s9LvWYprGxbdTfWJ?usp=drive_link).\n"
      ]
    },
    {
      "cell_type": "code",
      "execution_count": 17,
      "id": "cca8ffda",
      "metadata": {
        "id": "cca8ffda"
      },
      "outputs": [],
      "source": [
        "import pandas as pd\n",
        "import numpy as np\n",
        "import seaborn as sb\n",
        "import matplotlib.pyplot as plt\n",
        "pd.options.mode.chained_assignment = None"
      ]
    },
    {
      "cell_type": "code",
      "source": [
        "from google.colab import drive\n",
        "drive.mount('/content/gdrive')\n"
      ],
      "metadata": {
        "id": "wQI1-e-50OVI",
        "colab": {
          "base_uri": "https://localhost:8080/"
        },
        "outputId": "69d9acbf-3f15-4365-9b44-2ae86f32ab13"
      },
      "execution_count": 18,
      "outputs": [
        {
          "output_type": "stream",
          "name": "stdout",
          "text": [
            "Drive already mounted at /content/gdrive; to attempt to forcibly remount, call drive.mount(\"/content/gdrive\", force_remount=True).\n"
          ]
        }
      ],
      "id": "wQI1-e-50OVI"
    },
    {
      "cell_type": "code",
      "source": [
        "acs = pd.read_csv(\"/content/gdrive/MyDrive/Stats 206 Winter 2024/data/pums_short.csv.gz\")\n"
      ],
      "metadata": {
        "id": "yCPimbazZnHD"
      },
      "id": "yCPimbazZnHD",
      "execution_count": 19,
      "outputs": []
    },
    {
      "cell_type": "markdown",
      "source": [
        "## Question 1: Working with missing data\n",
        "\n",
        "### Q1.a\n",
        "\n",
        "Repeat the calcuation from lab that computes the number of missing values for the `\"RNTP\"` column.\n",
        "\n",
        "Repeat for the `\"VALP\"` column. (If you want, you can compute both totals simultaneously.)\n",
        "\n",
        "Print out the total number of rows in the table. What do you notice?\n",
        "\n"
      ],
      "metadata": {
        "id": "t3eAqbMlZzBD"
      },
      "id": "t3eAqbMlZzBD"
    },
    {
      "cell_type": "code",
      "source": [
        "print(acs[\"VALP\"].isna().sum())\n",
        "print(acs[\"RNTP\"].isna().sum())\n",
        "print(\"Total number of rows =\" , len(acs))\n",
        "# Total number of rows < the sum of nan values VALPS and RNTP"
      ],
      "metadata": {
        "id": "T7grUaCZe3o8",
        "outputId": "ed97c886-872a-46b2-b377-2b0dc81303a9",
        "colab": {
          "base_uri": "https://localhost:8080/"
        }
      },
      "id": "T7grUaCZe3o8",
      "execution_count": 38,
      "outputs": [
        {
          "output_type": "stream",
          "name": "stdout",
          "text": [
            "97644\n",
            "202728\n",
            "Total number of rows = 276632\n"
          ]
        }
      ]
    },
    {
      "cell_type": "markdown",
      "source": [],
      "metadata": {
        "id": "jGtO-9z3e4A3"
      },
      "id": "jGtO-9z3e4A3"
    },
    {
      "cell_type": "markdown",
      "source": [
        "### Q1.b\n",
        "\n",
        "Write a single line of code that proves that 100% of observations are missing either the `\"VALP\"` or `\"RNTP\"` measurements."
      ],
      "metadata": {
        "id": "eIDjY3OWe6Se"
      },
      "id": "eIDjY3OWe6Se"
    },
    {
      "cell_type": "code",
      "source": [
        "acs[\"VALP\"].isna().sum() + acs[\"RNTP\"].isna().sum() >= 276632 #Total number of rows"
      ],
      "metadata": {
        "id": "4-k-cUYVDL-Y",
        "colab": {
          "base_uri": "https://localhost:8080/"
        },
        "outputId": "6a7de3e2-c4a2-4494-d3e2-a3faf316aa0d"
      },
      "id": "4-k-cUYVDL-Y",
      "execution_count": 21,
      "outputs": [
        {
          "output_type": "execute_result",
          "data": {
            "text/plain": [
              "True"
            ]
          },
          "metadata": {},
          "execution_count": 21
        }
      ]
    },
    {
      "cell_type": "markdown",
      "source": [
        "### Q1.c\n",
        "\n",
        "The `.dropna()` method has a `subset = ['column1', 'column2']` argument that allows you to indicate which columns your want to use to control how rows are dropped from the result.\n",
        "\n",
        "Create a table called `owners` that only includes housholds that have non-missing `\"VALP\"` entries. Print out the number of rows in this table and verify it matches the number of observations with *non-missing* `\"VALP\"` entries in `acs`. Hint:\n"
      ],
      "metadata": {
        "id": "16ZphlmqgbIB"
      },
      "id": "16ZphlmqgbIB"
    },
    {
      "cell_type": "code",
      "source": [
        "hint = pd.Series([True, False, False, True])\n",
        "~ hint"
      ],
      "metadata": {
        "colab": {
          "base_uri": "https://localhost:8080/"
        },
        "id": "CFj4ClXBh3Au",
        "outputId": "d24efad0-4c1d-4169-c280-b7bf4cdb29b8"
      },
      "id": "CFj4ClXBh3Au",
      "execution_count": 22,
      "outputs": [
        {
          "output_type": "execute_result",
          "data": {
            "text/plain": [
              "0    False\n",
              "1     True\n",
              "2     True\n",
              "3    False\n",
              "dtype: bool"
            ]
          },
          "metadata": {},
          "execution_count": 22
        }
      ]
    },
    {
      "cell_type": "code",
      "source": [
        "owners = acs.dropna(subset=['VALP'])\n",
        "print(len(owners))\n",
        "276632 - acs[\"VALP\"].isna().sum() == len(owners)"
      ],
      "metadata": {
        "id": "KnMu4EgUhauJ",
        "colab": {
          "base_uri": "https://localhost:8080/"
        },
        "outputId": "d7f300bd-61c3-446a-b7e0-8049b6d9f5ac"
      },
      "id": "KnMu4EgUhauJ",
      "execution_count": 23,
      "outputs": [
        {
          "output_type": "stream",
          "name": "stdout",
          "text": [
            "178988\n"
          ]
        },
        {
          "output_type": "execute_result",
          "data": {
            "text/plain": [
              "True"
            ]
          },
          "metadata": {},
          "execution_count": 23
        }
      ]
    },
    {
      "cell_type": "markdown",
      "source": [
        "### Q1.d\n",
        "\n",
        "Using the `owners` table, what **proportion** of rows are missing `\"HINCP\"` values?\n",
        "\n",
        "Find the median value of the non-missing values (hint: built in Panadas methods automatically drop missing values).\n",
        "\n",
        "Using the `.fillna(VALUE, inplace = TRUE)` method, update the `\"HINCP\"` column of the `owners` table by making any missing values equal to median of the non-missing values.\n",
        "\n",
        "Verify by showing that all of the values are not missing for `\"HINCP\"`.\n",
        "\n"
      ],
      "metadata": {
        "id": "2A4f8SHfh_CI"
      },
      "id": "2A4f8SHfh_CI"
    },
    {
      "cell_type": "code",
      "source": [
        "print(owners[\"HINCP\"].isnull().mean())\n",
        "# THE FIRST VALUE I GOT WAS LIKE 0.13 something\n",
        "owners[\"HINCP\"].median()\n",
        "owners[\"HINCP\"].fillna(owners[\"HINCP\"].median(), inplace = True)\n",
        "print(owners[\"HINCP\"].isnull().mean())"
      ],
      "metadata": {
        "id": "OmCaL9pFytyQ",
        "colab": {
          "base_uri": "https://localhost:8080/"
        },
        "outputId": "c6b9fd32-2873-465f-c682-a27409489a5b"
      },
      "id": "OmCaL9pFytyQ",
      "execution_count": 24,
      "outputs": [
        {
          "output_type": "stream",
          "name": "stdout",
          "text": [
            "0.01331932867007844\n",
            "0.0\n"
          ]
        }
      ]
    },
    {
      "cell_type": "markdown",
      "source": [
        "### Q1.e\n",
        "\n",
        "Repeat the above steps to create a table `renters` that contains only rows for people who are renting (have non-missing `RNTP` values) and median impute any missing `HINCP` values.\n",
        "\n",
        "For both `owners` and `renters` compute the following quantities for the \"HINCP\" column.\n",
        "- mean\n",
        "- median\n",
        "- IQR\n",
        "- standard deviation\n",
        "\n",
        "Which group has the higher location values? Which group has more spread? Comment briefly on what this means.\n",
        "\n"
      ],
      "metadata": {
        "id": "3o_nG7ZIy0uk"
      },
      "id": "3o_nG7ZIy0uk"
    },
    {
      "cell_type": "code",
      "source": [
        "renters = acs.dropna(subset = [\"RNTP\"])\n",
        "renters[\"HINCP\"].fillna(renters[\"HINCP\"].median(), inplace = True)\n",
        "print(owners[\"HINCP\"].mean(), owners[\"HINCP\"].median(), (owners[\"HINCP\"].quantile(.75) - owners[\"HINCP\"].quantile(.25)), owners[\"HINCP\"].std())\n",
        "print(renters[\"HINCP\"].mean(), renters[\"HINCP\"].median(), (renters[\"HINCP\"].quantile(.75) - renters[\"HINCP\"].quantile(.25)), renters[\"HINCP\"].std())\n",
        "print(\"The owners has a higher location of values (Mean household income) than renters.\")\n",
        "print(\"The owners also has more spread which means they have more variability.\")\n",
        "print(\"This sort of insinuates owners tend to have higher household incomes on average and a wider range of incomes compared to renters\")"
      ],
      "metadata": {
        "id": "QmtFvJkwy0fx",
        "colab": {
          "base_uri": "https://localhost:8080/"
        },
        "outputId": "9b25467b-34dd-478a-dbbe-40723c81a84c"
      },
      "id": "QmtFvJkwy0fx",
      "execution_count": 25,
      "outputs": [
        {
          "output_type": "stream",
          "name": "stdout",
          "text": [
            "103101.59041946946 75000.0 85100.0 107811.39422510703\n",
            "56607.35456808833 40000.0 49600.0 64594.46491847602\n",
            "The owners has a higher location of values (Mean household income) than renters.\n",
            "The owners also has more spread which means they have more variability.\n",
            "This sort of insinuates owners tend to have higher household incomes on average and a wider range of incomes compared to renters\n"
          ]
        }
      ]
    },
    {
      "cell_type": "markdown",
      "id": "495facff",
      "metadata": {
        "id": "495facff"
      },
      "source": [
        "## Question 2: Income by age category\n",
        "\n",
        "### Q2.a\n",
        "\n",
        "Review the `\"R65\"` variable in the code book. It is composed of three categories: A) households with nobody of age 65 and over; B) households with (exactly) 1 person of age 65 and over; and C) households with 2 or more people of age 65 and over. Below is some code to make those categories more readable.\n",
        "\n",
        "* Compute the proportion of the data set in each of the categories. What is the most common of these categories?\n",
        "* Calculate the median household income for each state (`\"ST\"`), `\"PUMA\"`, and for each level of the `\"R65_cat\"` variable.\n",
        "* Keep this result as a tall table but use `reset_index` to make it a little easier to work with. We will call this result `median_hh`. Show the dimensions of this table."
      ]
    },
    {
      "cell_type": "code",
      "source": [
        "acs[\"R65_cat\"] = acs[\"R65\"].replace([0, 1, 2], [\"65+: None\", \"65+: One\", \"65+: Two more\"])"
      ],
      "metadata": {
        "id": "IN7YMm-e2yv7"
      },
      "id": "IN7YMm-e2yv7",
      "execution_count": 26,
      "outputs": []
    },
    {
      "cell_type": "code",
      "source": [
        "print(acs['R65_cat'].value_counts(normalize=True))\n",
        "print(\"The most common is 65+: None\")\n",
        "median_hh = acs.groupby([ 'ST', 'PUMA', 'R65_cat'])['HINCP'].median().reset_index()\n",
        "median_hh.shape"
      ],
      "metadata": {
        "id": "Rl6acJHj2uAg",
        "colab": {
          "base_uri": "https://localhost:8080/"
        },
        "outputId": "e50f36da-a532-4183-ace3-9d16ca2f3349"
      },
      "id": "Rl6acJHj2uAg",
      "execution_count": 27,
      "outputs": [
        {
          "output_type": "stream",
          "name": "stdout",
          "text": [
            "65+: None        0.652720\n",
            "65+: One         0.217067\n",
            "65+: Two more    0.130213\n",
            "Name: R65_cat, dtype: float64\n",
            "The most common is 65+: None\n"
          ]
        },
        {
          "output_type": "execute_result",
          "data": {
            "text/plain": [
              "(7046, 4)"
            ]
          },
          "metadata": {},
          "execution_count": 27
        }
      ]
    },
    {
      "cell_type": "markdown",
      "id": "b6d6c29b",
      "metadata": {
        "id": "b6d6c29b"
      },
      "source": [
        "### Q2.b\n",
        "\n",
        "Create a single plot that shows the **conditional distributions**  histogram of the within-PUMA median income for each level of `\"R65_cat\"` separately. (Creating combined plots like this is one advatage of *tall tables*.) Contrast these conditional distributions. Does one category stand out as having a different conditional distribution than the other two?"
      ]
    },
    {
      "cell_type": "code",
      "source": [
        "sb.histplot(data = median_hh, x = \"HINCP\", hue = \"R65_cat\")\n",
        "#Both distributions are right skewed. They have similiar centers. 65+ two or more has some extreme values pulling the mean."
      ],
      "metadata": {
        "id": "goP0Tof578Rm",
        "colab": {
          "base_uri": "https://localhost:8080/",
          "height": 466
        },
        "outputId": "e2926863-b662-472e-e3fe-ff662778bb40"
      },
      "id": "goP0Tof578Rm",
      "execution_count": 28,
      "outputs": [
        {
          "output_type": "execute_result",
          "data": {
            "text/plain": [
              "<Axes: xlabel='HINCP', ylabel='Count'>"
            ]
          },
          "metadata": {},
          "execution_count": 28
        },
        {
          "output_type": "display_data",
          "data": {
            "text/plain": [
              "<Figure size 640x480 with 1 Axes>"
            ],
            "image/png": "[encoded data removed]"
          },
          "metadata": {}
        }
      ]
    },
    {
      "cell_type": "markdown",
      "source": [],
      "metadata": {
        "id": "WMNFxhDq777v"
      },
      "id": "WMNFxhDq777v"
    },
    {
      "cell_type": "markdown",
      "id": "57d8646b",
      "metadata": {
        "id": "57d8646b"
      },
      "source": [
        "### Q2.c\n",
        "\n",
        "Some questions are easier to answer using a wide table. If you have created the `median_hh` table as described in 2.a, uncomment the following to get a wide version of the table:"
      ]
    },
    {
      "cell_type": "code",
      "source": [
        "median_hh_wide = median_hh.pivot(index = [\"ST\", \"PUMA\"], columns = \"R65_cat\", values = \"HINCP\")\n",
        "median_hh_wide.describe()"
      ],
      "metadata": {
        "id": "ZrpLj7Z-8jpu",
        "colab": {
          "base_uri": "https://localhost:8080/",
          "height": 300
        },
        "outputId": "669496f3-7f7c-47f5-ddd9-8b937f1e3d89"
      },
      "id": "ZrpLj7Z-8jpu",
      "execution_count": 29,
      "outputs": [
        {
          "output_type": "execute_result",
          "data": {
            "text/plain": [
              "R65_cat      65+: None       65+: One  65+: Two more\n",
              "count      2351.000000    2351.000000    2344.000000\n",
              "mean      76653.735857   45615.000000   72485.023464\n",
              "std       31353.239341   21038.316454   32410.418098\n",
              "min       21000.000000   10800.000000    4800.000000\n",
              "25%       55000.000000   31200.000000   52100.000000\n",
              "50%       70000.000000   40100.000000   65000.000000\n",
              "75%       91000.000000   54975.000000   84200.000000\n",
              "max      251000.000000  187100.000000  391000.000000"
            ],
            "text/html": [
              "\n",
              "  <div id=\"df-24fff608-8344-4451-81c9-5e5abf7febc5\" class=\"colab-df-container\">\n",
              "    <div>\n",
              "<style scoped>\n",
              "    .dataframe tbody tr th:only-of-type {\n",
              "        vertical-align: middle;\n",
              "    }\n",
              "\n",
              "    .dataframe tbody tr th {\n",
              "        vertical-align: top;\n",
              "    }\n",
              "\n",
              "    .dataframe thead th {\n",
              "        text-align: right;\n",
              "    }\n",
              "</style>\n",
              "<table border=\"1\" class=\"dataframe\">\n",
              "  <thead>\n",
              "    <tr style=\"text-align: right;\">\n",
              "      <th>R65_cat</th>\n",
              "      <th>65+: None</th>\n",
              "      <th>65+: One</th>\n",
              "      <th>65+: Two more</th>\n",
              "    </tr>\n",
              "  </thead>\n",
              "  <tbody>\n",
              "    <tr>\n",
              "      <th>count</th>\n",
              "      <td>2351.000000</td>\n",
              "      <td>2351.000000</td>\n",
              "      <td>2344.000000</td>\n",
              "    </tr>\n",
              "    <tr>\n",
              "      <th>mean</th>\n",
              "      <td>76653.735857</td>\n",
              "      <td>45615.000000</td>\n",
              "      <td>72485.023464</td>\n",
              "    </tr>\n",
              "    <tr>\n",
              "      <th>std</th>\n",
              "      <td>31353.239341</td>\n",
              "      <td>21038.316454</td>\n",
              "      <td>32410.418098</td>\n",
              "    </tr>\n",
              "    <tr>\n",
              "      <th>min</th>\n",
              "      <td>21000.000000</td>\n",
              "      <td>10800.000000</td>\n",
              "      <td>4800.000000</td>\n",
              "    </tr>\n",
              "    <tr>\n",
              "      <th>25%</th>\n",
              "      <td>55000.000000</td>\n",
              "      <td>31200.000000</td>\n",
              "      <td>52100.000000</td>\n",
              "    </tr>\n",
              "    <tr>\n",
              "      <th>50%</th>\n",
              "      <td>70000.000000</td>\n",
              "      <td>40100.000000</td>\n",
              "      <td>65000.000000</td>\n",
              "    </tr>\n",
              "    <tr>\n",
              "      <th>75%</th>\n",
              "      <td>91000.000000</td>\n",
              "      <td>54975.000000</td>\n",
              "      <td>84200.000000</td>\n",
              "    </tr>\n",
              "    <tr>\n",
              "      <th>max</th>\n",
              "      <td>251000.000000</td>\n",
              "      <td>187100.000000</td>\n",
              "      <td>391000.000000</td>\n",
              "    </tr>\n",
              "  </tbody>\n",
              "</table>\n",
              "</div>\n",
              "    <div class=\"colab-df-buttons\">\n",
              "\n",
              "  <div class=\"colab-df-container\">\n",
              "    <button class=\"colab-df-convert\" onclick=\"convertToInteractive('df-24fff608-8344-4451-81c9-5e5abf7febc5')\"\n",
              "            title=\"Convert this dataframe to an interactive table.\"\n",
              "            style=\"display:none;\">\n",
              "\n",
              "  <svg xmlns=\"http://www.w3.org/2000/svg\" height=\"24px\" viewBox=\"0 -960 960 960\">\n",
              "    <path d=\"M120-120v-720h720v720H120Zm60-500h600v-160H180v160Zm220 220h160v-160H400v160Zm0 220h160v-160H400v160ZM180-400h160v-160H180v160Zm440 0h160v-160H620v160ZM180-180h160v-160H180v160Zm440 0h160v-160H620v160Z\"/>\n",
              "  </svg>\n",
              "    </button>\n",
              "\n",
              "  <style>\n",
              "    .colab-df-container {\n",
              "      display:flex;\n",
              "      gap: 12px;\n",
              "    }\n",
              "\n",
              "    .colab-df-convert {\n",
              "      background-color: #E8F0FE;\n",
              "      border: none;\n",
              "      border-radius: 50%;\n",
              "      cursor: pointer;\n",
              "      display: none;\n",
              "      fill: #1967D2;\n",
              "      height: 32px;\n",
              "      padding: 0 0 0 0;\n",
              "      width: 32px;\n",
              "    }\n",
              "\n",
              "    .colab-df-convert:hover {\n",
              "      background-color: #E2EBFA;\n",
              "      box-shadow: 0px 1px 2px rgba(60, 64, 67, 0.3), 0px 1px 3px 1px rgba(60, 64, 67, 0.15);\n",
              "      fill: #174EA6;\n",
              "    }\n",
              "\n",
              "    .colab-df-buttons div {\n",
              "      margin-bottom: 4px;\n",
              "    }\n",
              "\n",
              "    [theme=dark] .colab-df-convert {\n",
              "      background-color: #3B4455;\n",
              "      fill: #D2E3FC;\n",
              "    }\n",
              "\n",
              "    [theme=dark] .colab-df-convert:hover {\n",
              "      background-color: #434B5C;\n",
              "      box-shadow: 0px 1px 3px 1px rgba(0, 0, 0, 0.15);\n",
              "      filter: drop-shadow(0px 1px 2px rgba(0, 0, 0, 0.3));\n",
              "      fill: #FFFFFF;\n",
              "    }\n",
              "  </style>\n",
              "\n",
              "    <script>\n",
              "      const buttonEl =\n",
              "        document.querySelector('#df-24fff608-8344-4451-81c9-5e5abf7febc5 button.colab-df-convert');\n",
              "      buttonEl.style.display =\n",
              "        google.colab.kernel.accessAllowed ? 'block' : 'none';\n",
              "\n",
              "      async function convertToInteractive(key) {\n",
              "        const element = document.querySelector('#df-24fff608-8344-4451-81c9-5e5abf7febc5');\n",
              "        const dataTable =\n",
              "          await google.colab.kernel.invokeFunction('convertToInteractive',\n",
              "                                                    [key], {});\n",
              "        if (!dataTable) return;\n",
              "\n",
              "        const docLinkHtml = 'Like what you see? Visit the ' +\n",
              "          '<a target=\"_blank\" href=https://colab.research.google.com/notebooks/data_table.ipynb>data table notebook</a>'\n",
              "          + ' to learn more about interactive tables.';\n",
              "        element.innerHTML = '';\n",
              "        dataTable['output_type'] = 'display_data';\n",
              "        await google.colab.output.renderOutput(dataTable, element);\n",
              "        const docLink = document.createElement('div');\n",
              "        docLink.innerHTML = docLinkHtml;\n",
              "        element.appendChild(docLink);\n",
              "      }\n",
              "    </script>\n",
              "  </div>\n",
              "\n",
              "\n",
              "<div id=\"df-bba75cac-a0da-46b9-923b-551b278a6fa0\">\n",
              "  <button class=\"colab-df-quickchart\" onclick=\"quickchart('df-bba75cac-a0da-46b9-923b-551b278a6fa0')\"\n",
              "            title=\"Suggest charts\"\n",
              "            style=\"display:none;\">\n",
              "\n",
              "<svg xmlns=\"http://www.w3.org/2000/svg\" height=\"24px\"viewBox=\"0 0 24 24\"\n",
              "     width=\"24px\">\n",
              "    <g>\n",
              "        <path d=\"M19 3H5c-1.1 0-2 .9-2 2v14c0 1.1.9 2 2 2h14c1.1 0 2-.9 2-2V5c0-1.1-.9-2-2-2zM9 17H7v-7h2v7zm4 0h-2V7h2v10zm4 0h-2v-4h2v4z\"/>\n",
              "    </g>\n",
              "</svg>\n",
              "  </button>\n",
              "\n",
              "<style>\n",
              "  .colab-df-quickchart {\n",
              "      --bg-color: #E8F0FE;\n",
              "      --fill-color: #1967D2;\n",
              "      --hover-bg-color: #E2EBFA;\n",
              "      --hover-fill-color: #174EA6;\n",
              "      --disabled-fill-color: #AAA;\n",
              "      --disabled-bg-color: #DDD;\n",
              "  }\n",
              "\n",
              "  [theme=dark] .colab-df-quickchart {\n",
              "      --bg-color: #3B4455;\n",
              "      --fill-color: #D2E3FC;\n",
              "      --hover-bg-color: #434B5C;\n",
              "      --hover-fill-color: #FFFFFF;\n",
              "      --disabled-bg-color: #3B4455;\n",
              "      --disabled-fill-color: #666;\n",
              "  }\n",
              "\n",
              "  .colab-df-quickchart {\n",
              "    background-color: var(--bg-color);\n",
              "    border: none;\n",
              "    border-radius: 50%;\n",
              "    cursor: pointer;\n",
              "    display: none;\n",
              "    fill: var(--fill-color);\n",
              "    height: 32px;\n",
              "    padding: 0;\n",
              "    width: 32px;\n",
              "  }\n",
              "\n",
              "  .colab-df-quickchart:hover {\n",
              "    background-color: var(--hover-bg-color);\n",
              "    box-shadow: 0 1px 2px rgba(60, 64, 67, 0.3), 0 1px 3px 1px rgba(60, 64, 67, 0.15);\n",
              "    fill: var(--button-hover-fill-color);\n",
              "  }\n",
              "\n",
              "  .colab-df-quickchart-complete:disabled,\n",
              "  .colab-df-quickchart-complete:disabled:hover {\n",
              "    background-color: var(--disabled-bg-color);\n",
              "    fill: var(--disabled-fill-color);\n",
              "    box-shadow: none;\n",
              "  }\n",
              "\n",
              "  .colab-df-spinner {\n",
              "    border: 2px solid var(--fill-color);\n",
              "    border-color: transparent;\n",
              "    border-bottom-color: var(--fill-color);\n",
              "    animation:\n",
              "      spin 1s steps(1) infinite;\n",
              "  }\n",
              "\n",
              "  @keyframes spin {\n",
              "    0% {\n",
              "      border-color: transparent;\n",
              "      border-bottom-color: var(--fill-color);\n",
              "      border-left-color: var(--fill-color);\n",
              "    }\n",
              "    20% {\n",
              "      border-color: transparent;\n",
              "      border-left-color: var(--fill-color);\n",
              "      border-top-color: var(--fill-color);\n",
              "    }\n",
              "    30% {\n",
              "      border-color: transparent;\n",
              "      border-left-color: var(--fill-color);\n",
              "      border-top-color: var(--fill-color);\n",
              "      border-right-color: var(--fill-color);\n",
              "    }\n",
              "    40% {\n",
              "      border-color: transparent;\n",
              "      border-right-color: var(--fill-color);\n",
              "      border-top-color: var(--fill-color);\n",
              "    }\n",
              "    60% {\n",
              "      border-color: transparent;\n",
              "      border-right-color: var(--fill-color);\n",
              "    }\n",
              "    80% {\n",
              "      border-color: transparent;\n",
              "      border-right-color: var(--fill-color);\n",
              "      border-bottom-color: var(--fill-color);\n",
              "    }\n",
              "    90% {\n",
              "      border-color: transparent;\n",
              "      border-bottom-color: var(--fill-color);\n",
              "    }\n",
              "  }\n",
              "</style>\n",
              "\n",
              "  <script>\n",
              "    async function quickchart(key) {\n",
              "      const quickchartButtonEl =\n",
              "        document.querySelector('#' + key + ' button');\n",
              "      quickchartButtonEl.disabled = true;  // To prevent multiple clicks.\n",
              "      quickchartButtonEl.classList.add('colab-df-spinner');\n",
              "      try {\n",
              "        const charts = await google.colab.kernel.invokeFunction(\n",
              "            'suggestCharts', [key], {});\n",
              "      } catch (error) {\n",
              "        console.error('Error during call to suggestCharts:', error);\n",
              "      }\n",
              "      quickchartButtonEl.classList.remove('colab-df-spinner');\n",
              "      quickchartButtonEl.classList.add('colab-df-quickchart-complete');\n",
              "    }\n",
              "    (() => {\n",
              "      let quickchartButtonEl =\n",
              "        document.querySelector('#df-bba75cac-a0da-46b9-923b-551b278a6fa0 button');\n",
              "      quickchartButtonEl.style.display =\n",
              "        google.colab.kernel.accessAllowed ? 'block' : 'none';\n",
              "    })();\n",
              "  </script>\n",
              "</div>\n",
              "    </div>\n",
              "  </div>\n"
            ],
            "application/vnd.google.colaboratory.intrinsic+json": {
              "type": "dataframe",
              "summary": "{\n  \"name\": \"median_hh_wide\",\n  \"rows\": 8,\n  \"fields\": [\n    {\n      \"column\": \"65+: None\",\n      \"properties\": {\n        \"dtype\": \"number\",\n        \"std\": 77236.47799232401,\n        \"min\": 2351.0,\n        \"max\": 251000.0,\n        \"num_unique_values\": 8,\n        \"samples\": [\n          76653.7358570821,\n          70000.0,\n          2351.0\n        ],\n        \"semantic_type\": \"\",\n        \"description\": \"\"\n      }\n    },\n    {\n      \"column\": \"65+: One\",\n      \"properties\": {\n        \"dtype\": \"number\",\n        \"std\": 58470.83515898231,\n        \"min\": 2351.0,\n        \"max\": 187100.0,\n        \"num_unique_values\": 8,\n        \"samples\": [\n          45615.0,\n          40100.0,\n          2351.0\n        ],\n        \"semantic_type\": \"\",\n        \"description\": \"\"\n      }\n    },\n    {\n      \"column\": \"65+: Two more\",\n      \"properties\": {\n        \"dtype\": \"number\",\n        \"std\": 126056.30377298288,\n        \"min\": 2344.0,\n        \"max\": 391000.0,\n        \"num_unique_values\": 8,\n        \"samples\": [\n          72485.02346416382,\n          65000.0,\n          2344.0\n        ],\n        \"semantic_type\": \"\",\n        \"description\": \"\"\n      }\n    }\n  ]\n}"
            }
          },
          "metadata": {},
          "execution_count": 29
        }
      ]
    },
    {
      "cell_type": "markdown",
      "source": [
        "Using this table (which has one row for each state-PUMA combination), compute the proportion of state-PUMAs that have each group as the highest median income. Explain what these results are showing; can you think of any reason why we see this set of results?"
      ],
      "metadata": {
        "id": "EbLMMWUmAQp8"
      },
      "id": "EbLMMWUmAQp8"
    },
    {
      "cell_type": "code",
      "source": [
        "max_income_group = median_hh_wide.idxmax(axis=1)\n",
        "proportion = max_income_group.value_counts(normalize=True)\n",
        "print(proportion)\n"
      ],
      "metadata": {
        "id": "i3uMJ2Us8apz",
        "colab": {
          "base_uri": "https://localhost:8080/"
        },
        "outputId": "cfbaa48b-5a2f-47a6-8ff9-d4b2b2a2f088"
      },
      "id": "i3uMJ2Us8apz",
      "execution_count": 30,
      "outputs": [
        {
          "output_type": "stream",
          "name": "stdout",
          "text": [
            "65+: None        0.572097\n",
            "65+: Two more    0.396002\n",
            "65+: One         0.031901\n",
            "dtype: float64\n"
          ]
        }
      ]
    },
    {
      "cell_type": "markdown",
      "id": "c6d1f131",
      "metadata": {
        "id": "c6d1f131"
      },
      "source": [
        "## Question 3: More on means and medians\n",
        "\n",
        "For this problem, we will investigate some theoretical properties of means and medians.\n",
        "\n",
        "### Q3.a\n",
        "\n",
        "We have already seen that the mean is the unique point $\\bar X$ that makes $\\sum_{i=1}^n (X_i - \\bar X) = 0$. While we didn't introduce it as such, it is also the case that $\\bar X$ is the point that **minimizes** $\\sum_{i=1}^n (X_i - \\bar X)^2$, the sum of squared deviations.\n",
        "\n",
        "Using the `HINCP` column of the `acs` data, demonstrate that the sum of squared deviations from the mean is less than the sum of squared deviations from the median ($\\sum_{i=1}^n (X_i - \\tilde X)^2$).\n",
        "\n",
        "Recall that `x**2` is how we square things in Python."
      ]
    },
    {
      "cell_type": "code",
      "source": [
        "mean_distance = acs[\"HINCP\"] - acs[\"HINCP\"].mean()\n",
        "median_distance = acs[\"HINCP\"] - acs[\"HINCP\"].median()\n",
        "mean_distance = (mean_distance**2).sum()\n",
        "median_distance = (median_distance**2).sum()\n",
        "print(\"The sum of all the mean s is\",  mean_distance)\n",
        "print(\"The sum of all median distances is\", median_distance)\n",
        "mean_distance < median_distance"
      ],
      "metadata": {
        "id": "skairJ_JDbed",
        "colab": {
          "base_uri": "https://localhost:8080/"
        },
        "outputId": "9c8908ba-7598-4d86-a51e-547f7a5b5ce9"
      },
      "id": "skairJ_JDbed",
      "execution_count": 31,
      "outputs": [
        {
          "output_type": "stream",
          "name": "stdout",
          "text": [
            "The sum of all the mean s is 2514930676893640.5\n",
            "The sum of all median distances is 2693213854216370.0\n"
          ]
        },
        {
          "output_type": "execute_result",
          "data": {
            "text/plain": [
              "True"
            ]
          },
          "metadata": {},
          "execution_count": 31
        }
      ]
    },
    {
      "cell_type": "markdown",
      "id": "ae49b469",
      "metadata": {
        "id": "ae49b469"
      },
      "source": [
        "### Q3.b\n",
        "\n",
        "Now, using $\\bar X$ and $\\tilde X$, compute the **sum of absolute distances**, $\\sum_{i=1}^n | X_i - \\bar X |$ and $\\sum_{i=1}^n |X_i - \\tilde X|$. Recall the `.abs()` method can compute the absolute value of a series."
      ]
    },
    {
      "cell_type": "code",
      "source": [
        "sum_of_absolutemean_distances = (acs[\"HINCP\"] - acs[\"HINCP\"].mean()).abs().sum()\n",
        "sum_of_absolutemedian_distances = (acs[\"HINCP\"] - acs[\"HINCP\"].median()).abs().sum()\n",
        "print(\"The sum of absolute distances using mean is\",  sum_of_absolutemean_distances)\n",
        "print(\"The sum of absolute distances using median is\", sum_of_absolutemedian_distances)\n"
      ],
      "metadata": {
        "id": "f4-hwTrRDgeh",
        "colab": {
          "base_uri": "https://localhost:8080/"
        },
        "outputId": "1f75238d-425a-427e-8363-b3ede60c2d68"
      },
      "id": "f4-hwTrRDgeh",
      "execution_count": 32,
      "outputs": [
        {
          "output_type": "stream",
          "name": "stdout",
          "text": [
            "The sum of absolute distances using mean is 15613409566.75057\n",
            "The sum of absolute distances using median is 14508223606.0\n"
          ]
        }
      ]
    },
    {
      "cell_type": "markdown",
      "id": "29f24486",
      "metadata": {
        "id": "29f24486"
      },
      "source": [
        "\n",
        "While we are not rising to the level of a mathematical proof, what do these result suggest about which type of measure of location would minimize the sum of absolute differences?"
      ]
    },
    {
      "cell_type": "markdown",
      "source": [
        "For this particular data set, it looks like utilizing the median would minimize the sum of absolute differences as the sum of absolute distances using the mean is greater than the sum of absolute distances using the median\n"
      ],
      "metadata": {
        "id": "iS3T3VuXDiHL"
      },
      "id": "iS3T3VuXDiHL"
    }
  ],
  "metadata": {
    "kernelspec": {
      "display_name": "Python 3 (ipykernel)",
      "language": "python",
      "name": "python3"
    },
    "language_info": {
      "codemirror_mode": {
        "name": "ipython",
        "version": 3
      },
      "file_extension": ".py",
      "mimetype": "text/x-python",
      "name": "python",
      "nbconvert_exporter": "python",
      "pygments_lexer": "ipython3",
      "version": "3.9.7"
    },
    "colab": {
      "provenance": []
    }
  },
  "nbformat": 4,
  "nbformat_minor": 5
}