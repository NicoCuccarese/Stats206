{
  "nbformat": 4,
  "nbformat_minor": 0,
  "metadata": {
    "colab": {
      "provenance": []
    },
    "kernelspec": {
      "name": "python3",
      "display_name": "Python 3"
    },
    "language_info": {
      "name": "python"
    }
  },
  "cells": [
    {
      "cell_type": "markdown",
      "metadata": {
        "id": "ksp3-wvDwawZ"
      },
      "source": [
        "# Back Bay National Wildlife Refuge\n",
        "\n",
        "\n",
        "> Back Bay National Wildlife Refuge is located in the southeastern corner of the City of Virginia Beach. The refuge was established in 1938 to protect and provide habitat for migrating and wintering waterfowl. Diverse habitats, including beachfront, freshwater marsh, dunes, shrub-scrub and upland forest are home to hundreds of species of birds, reptiles, amphibians, mammals and fish.\n",
        "\n",
        "![BNWR](https://www.fws.gov/sites/default/files/styles/banner_image_xl/public/banner_images/2020-09/waterfowl%20%28tundras%29.jpg?h=0c8d0f81&itok=NcZlpD27)\n"
      ]
    },
    {
      "cell_type": "markdown",
      "source": [
        "To get introduced to the park and its history, please view the following interactive story map.\n",
        "\n",
        "[BBNWR History and Introduction](https://storymaps.arcgis.com/stories/960d9db38cca4f3d8d38111119b9874f)\n",
        "\n",
        "Additionally, here is some drone footage of the park for a better look at the geography and ecology of the area.\n",
        "\n",
        "[BBNWR Drone Footage](https://www.youtube.com/watch?v=NlW330aBTCc)\n"
      ],
      "metadata": {
        "id": "XYrofsga2Ufg"
      }
    },
    {
      "cell_type": "code",
      "execution_count": 1,
      "metadata": {
        "id": "yA0hA9m5wawa"
      },
      "outputs": [],
      "source": [
        "import os\n",
        "import pandas as pd\n",
        "import numpy as np\n",
        "import seaborn as sb"
      ]
    },
    {
      "cell_type": "code",
      "source": [
        "from google.colab import drive\n",
        "drive.mount('/content/gdrive')"
      ],
      "metadata": {
        "colab": {
          "base_uri": "https://localhost:8080/"
        },
        "id": "8N0o96tq5Uag",
        "outputId": "920d7dba-067e-4028-ce9c-3bcc5547034f"
      },
      "execution_count": 2,
      "outputs": [
        {
          "output_type": "stream",
          "name": "stdout",
          "text": [
            "Mounted at /content/gdrive\n"
          ]
        }
      ]
    },
    {
      "cell_type": "code",
      "execution_count": 3,
      "metadata": {
        "id": "jfeXpob9wawb",
        "colab": {
          "base_uri": "https://localhost:8080/"
        },
        "outputId": "1638e17f-5c82-4521-ab07-8c7b5a65a14d"
      },
      "outputs": [
        {
          "output_type": "execute_result",
          "data": {
            "text/plain": [
              "Index(['Site_Id', 'Unit_Id', 'Read_Date', 'Salinity (ppt)',\n",
              "       'Dissolved Oxygen (mg/L)', 'pH (standard units)', 'Secchi Depth (m)',\n",
              "       'Water Depth (m)', 'Water Temp (?C)', 'Air Temp-Celsius',\n",
              "       'Air Temp (?F)', 'Time (24:00)', 'Field_Tech', 'DateVerified',\n",
              "       'WhoVerified', 'AirTemp (C)', 'Year'],\n",
              "      dtype='object')"
            ]
          },
          "metadata": {},
          "execution_count": 3
        }
      ],
      "source": [
        "bbnwr = pd.read_csv(\"/content/gdrive/MyDrive/Stats 206 Winter 2024/data/BKB_WaterQualityData_2020084.csv\")\n",
        "bbnwr.columns"
      ]
    },
    {
      "cell_type": "code",
      "source": [
        "bbnwr[\"Site_Id\"].replace('d', 'D', inplace = True)"
      ],
      "metadata": {
        "id": "2vgIo90Dn2fS"
      },
      "execution_count": 4,
      "outputs": []
    },
    {
      "cell_type": "markdown",
      "metadata": {
        "id": "wJKz38G7ld31"
      },
      "source": [
        "## Question 1\n"
      ]
    },
    {
      "cell_type": "markdown",
      "source": [
        "### Q1a\n",
        "\n",
        "The water in BBNWR is a mix of fresh water and sea water. Sea water has an average salinity of 35 ppt (parts per thousand). Because fresh water flows into the Bay, however, the level of salinity can be much lower, depending how much fresh water enters the system. Such systems are described through a tiered system of descriptions based on the amount of salt in the water.\n",
        "\n",
        "A oligohaline mixture is one in which the saline content is between 0.5 - 5.0. More details on [classifying estuaries can be found in this EPA report](https://www.epa.gov/sites/default/files/2015-09/documents/2009_03_13_estuaries_monitor_chap14.pdf).\n",
        "\n",
        "Let's test the theory that the measurements from the Bay come from a oligohaline mixture, so that salinity is more than 0.5.\n",
        "\n",
        "For this hypothesis test will we use a $\\alpha$-level (maximum Type I error probability) of $0.003$.\n",
        "\n",
        "Clearly state:\n",
        "\n",
        "- The null hypothesis\n",
        "- The alternative hypothesis\n",
        "- A suitable test statistic\n",
        "- The standard error of this test statistic\n",
        "- A rejection region that will have probability of including the test statistic 0.16 when the null hypothesis is true.\n",
        "\n",
        "\n"
      ],
      "metadata": {
        "id": "O4oA1ifhIGWw"
      }
    },
    {
      "cell_type": "markdown",
      "source": [
        "Null:\n",
        "\n",
        "*   The population mean is more than .5\n",
        "\n",
        "Alternative:\n",
        "\n",
        "*   The population mean is less than or equal to .5\n",
        "\n",
        "A suitable test statistic would be a sample mean"
      ],
      "metadata": {
        "id": "gAMACV8SQbOY"
      }
    },
    {
      "cell_type": "code",
      "source": [
        "stdx = bbnwr[\"Salinity (ppt)\"].std()\n",
        "n = len(bbnwr[\"Salinity (ppt)\"])\n",
        "sem = stdx/np.sqrt(n)\n",
        "print(\"Our standard error from the mean is\", sem)\n",
        "print(\"Our rejection region is\", .5 + 3 * sem)\n"
      ],
      "metadata": {
        "colab": {
          "base_uri": "https://localhost:8080/"
        },
        "id": "1WcQsL82tnOV",
        "outputId": "4cd1fd97-93fd-4fc9-c614-9de0703db425"
      },
      "execution_count": 19,
      "outputs": [
        {
          "output_type": "stream",
          "name": "stdout",
          "text": [
            "Our standard error from the mean is 0.025277161730154138\n",
            "Our rejection region is 0.5758314851904625\n"
          ]
        }
      ]
    },
    {
      "cell_type": "markdown",
      "source": [
        "### Q1b\n",
        "\n",
        "Now that we have described our hypothesis test, compute all quantities needed to compute the test statistic, standard error, and rejection region. You may find it helpful to create a table that only includes observations from the Bay with non-missing values for \"Salinity (ppt)\"."
      ],
      "metadata": {
        "id": "_gFr-CezQbqe"
      }
    },
    {
      "cell_type": "code",
      "source": [
        "new_table = bbnwr.copy()\n",
        "new_table[\"Salinity (ppt)\"].dropna()\n",
        "sample_mean = new_table[\"Salinity (ppt)\"].mean()\n",
        "sem = new_table[\"Salinity (ppt)\"].mean() / np.sqrt(len(new_table[\"Salinity (ppt)\"]))\n",
        ".5 + 3 * sem\n",
        "# Our rejection region would be a test stastiic of [.5441 to 5.0]"
      ],
      "metadata": {
        "id": "PwFjQhyKIFzm",
        "colab": {
          "base_uri": "https://localhost:8080/"
        },
        "outputId": "44389439-ad58-4f51-ba20-8c32eeeed483"
      },
      "execution_count": 6,
      "outputs": [
        {
          "output_type": "execute_result",
          "data": {
            "text/plain": [
              "0.5441790105646941"
            ]
          },
          "metadata": {},
          "execution_count": 6
        }
      ]
    },
    {
      "cell_type": "markdown",
      "source": [
        "### Q1c\n",
        "\n",
        "Perform the hypothesis test. Clearly state whether you reject or fail to reject the null hypothesis. Interpret this result with result to the original question of whether the average salinity of the Bay seems to be less than 35 ppt."
      ],
      "metadata": {
        "id": "ShY29Y3jQm2F"
      }
    },
    {
      "cell_type": "code",
      "source": [
        "sample_mean = new_table[\"Salinity (ppt)\"].mean()\n",
        "sample_mean"
      ],
      "metadata": {
        "colab": {
          "base_uri": "https://localhost:8080/"
        },
        "id": "9N3sNxmRQ8N1",
        "outputId": "66391631-c9d4-464c-dd28-631d85a83389"
      },
      "execution_count": 7,
      "outputs": [
        {
          "output_type": "execute_result",
          "data": {
            "text/plain": [
              "0.7170682730923695"
            ]
          },
          "metadata": {},
          "execution_count": 7
        }
      ]
    },
    {
      "cell_type": "markdown",
      "source": [
        "We would reject the null hypothesis because our test statistic falls into the rejection region. This would suggest that the salinity is less than 35ppt"
      ],
      "metadata": {
        "id": "i5lZrNhOvpkF"
      }
    },
    {
      "cell_type": "markdown",
      "source": [
        "### Q1d\n",
        "\n",
        "We could also approach this question by creating a confidence interval for the average salinity in the population of all measurements in the Bay.\n",
        "\n",
        "Using the quantities above, create a 99.7% confidence interval of the average salinity of the Bay. What does this interval tell us about the following table of salinity mixture tiers:\n",
        "\n",
        "| Level | Salinity |\n",
        "| ----- | -------- |\n",
        "| Fresh Water | < 0.5 ppt |\n",
        "| Oligohaline | 0.5 -- 5.0 ppt|\n",
        "| Mesohaline | 5.0-18.0 ppt|\n",
        "| Polyhaline | 18.0­ -- 30 ppt |\n",
        "| Ocean | > 30 ppt |\n",
        "\n",
        "Which of these levels can be ruled out for the Bay?"
      ],
      "metadata": {
        "id": "OyXFghQIW_F6"
      }
    },
    {
      "cell_type": "code",
      "source": [
        "sample_mean - 3 * sem, sample_mean + 3 * sem"
      ],
      "metadata": {
        "id": "YslpxagrYB0R",
        "colab": {
          "base_uri": "https://localhost:8080/"
        },
        "outputId": "cf115d81-f145-44fd-aba5-14924d271eb6"
      },
      "execution_count": 8,
      "outputs": [
        {
          "output_type": "execute_result",
          "data": {
            "text/plain": [
              "(0.6728892625276754, 0.7612472836570636)"
            ]
          },
          "metadata": {},
          "execution_count": 8
        }
      ]
    },
    {
      "cell_type": "markdown",
      "source": [
        "We are 99.7 percent confident that the true salinity is Oligohaline. It is very unlikely to get a sample of Mesohaline, Polyhaline or Ocean, or Fresh Water."
      ],
      "metadata": {
        "id": "m5ATMYIpX9eY"
      }
    },
    {
      "cell_type": "markdown",
      "metadata": {
        "id": "qXFYctfFzTyK"
      },
      "source": [
        "## Question 2\n",
        "\n",
        "\n",
        "\n"
      ]
    },
    {
      "cell_type": "markdown",
      "source": [
        "### Q2a\n",
        "\n",
        "A [Secchi disk](https://en.wikipedia.org/wiki/Secchi_disk) is a device used to measure the clarity of water by submerging the disk and measuring the depth at which it is no longer visible.\n",
        "\n",
        "![Secchi Disk](https://upload.wikimedia.org/wikipedia/commons/thumb/0/0b/Secchi_disk_pattern.svg/240px-Secchi_disk_pattern.svg.png)\n",
        "\n",
        "A common definition of \"clear water\" is being able to view a Secchi disk at 4m; however, in the case of the BBNWR, most of the depths are less than 4m:\n",
        "\n",
        "\n"
      ],
      "metadata": {
        "id": "0I7hYoE_YrfM"
      }
    },
    {
      "cell_type": "code",
      "source": [
        "sb.histplot(data = bbnwr, x = \"Water Depth (m)\")"
      ],
      "metadata": {
        "colab": {
          "base_uri": "https://localhost:8080/",
          "height": 466
        },
        "id": "l0TRDIVHll31",
        "outputId": "111d39af-8608-47fb-a427-07e87218b87f"
      },
      "execution_count": 9,
      "outputs": [
        {
          "output_type": "execute_result",
          "data": {
            "text/plain": [
              "<Axes: xlabel='Water Depth (m)', ylabel='Count'>"
            ]
          },
          "metadata": {},
          "execution_count": 9
        },
        {
          "output_type": "display_data",
          "data": {
            "text/plain": [
              "<Figure size 640x480 with 1 Axes>"
            ],
            "image/png": "[encoded data removed]"
          },
          "metadata": {}
        }
      ]
    },
    {
      "cell_type": "markdown",
      "source": [
        "Create a new column \"clear\" that is `True` if either of the following conditions is met:\n",
        "\n",
        "- The \"Secchi Depth (m)\" is at least 4m\n",
        "- The \"Secchi Depth (m)\" is at least as large as the \"Water Depth (m)\" (due to small differences due to waves/location/etc\n",
        " Secchi Depth can be (slightly) greater than Water Depth)\n",
        "\n",
        " Display the proportion of \"clear\" observations.\n",
        "\n"
      ],
      "metadata": {
        "id": "Lsr6G39zluZL"
      }
    },
    {
      "cell_type": "code",
      "source": [
        "bbnwr[\"clear\"] = (bbnwr[\"Secchi Depth (m)\"] >= 4) | (bbnwr[\"Secchi Depth (m)\"] >= bbnwr[\"Water Depth (m)\"])\n",
        "sample_prop = bbnwr[\"clear\"].mean()\n",
        "print(\"The proportion of clear obervations is\", sample_prop)"
      ],
      "metadata": {
        "id": "OYfN391YY9Na",
        "colab": {
          "base_uri": "https://localhost:8080/"
        },
        "outputId": "f44f200e-a443-4da3-f13a-6e4fb95a8046"
      },
      "execution_count": 13,
      "outputs": [
        {
          "output_type": "stream",
          "name": "stdout",
          "text": [
            "The proportion of clear obervations is 0.3888654576128216\n"
          ]
        }
      ]
    },
    {
      "cell_type": "markdown",
      "source": [
        "### Q2b\n",
        "\n",
        "Using the estimated standard error for proportion, test the hypothesis that 40% of measures are \"clear\" against the alterntaive they the percentage of clear measurements is some other value. Use $\\alpha = 0.05$.\n",
        "\n"
      ],
      "metadata": {
        "id": "OY4mXlhqmtPV"
      }
    },
    {
      "cell_type": "code",
      "source": [
        "se_p_hat = np.sqrt(sample_prop * (1 - sample_prop) / bbnwr[\"clear\"].count())\n",
        "print(.4 - 2 * se_p_hat, .4 + 2 * se_p_hat)\n",
        "print(sample_prop)"
      ],
      "metadata": {
        "id": "hhmXWqpxnP2i",
        "colab": {
          "base_uri": "https://localhost:8080/"
        },
        "outputId": "be530ecd-d9ce-4772-d59c-f578d82c81c9"
      },
      "execution_count": 14,
      "outputs": [
        {
          "output_type": "stream",
          "name": "stdout",
          "text": [
            "0.37997685382011126 0.4200231461798888\n",
            "0.3888654576128216\n"
          ]
        }
      ]
    },
    {
      "cell_type": "markdown",
      "source": [
        "Interpret the result: do you think there is strong evidence against the claim that 40% of measuremnts (in the population of all measurements) are clear?"
      ],
      "metadata": {
        "id": "HUVAAzPcnvFY"
      }
    },
    {
      "cell_type": "markdown",
      "source": [
        "At an alpha value of .05, we would fail to reject the null. Our test statistics does not fall within our rejection region (p_hat < .3799999 | .4200 < p_hat). This suggests it's likely 40 percent of our measurements are clear."
      ],
      "metadata": {
        "id": "fFPWyPicnxMG"
      }
    },
    {
      "cell_type": "markdown",
      "source": [
        "### Q2c\n",
        "\n",
        "Refering the result from the previous section, compute the $p$-value for this hypothesis.\n"
      ],
      "metadata": {
        "id": "KHvgt-k9nruK"
      }
    },
    {
      "cell_type": "code",
      "source": [
        "from scipy.stats import norm\n",
        "# you will find norm.cdf helpful\n",
        "\n",
        "z = (sample_prop - 4/10) / se_p_hat\n",
        "2 * norm.cdf(z)\n",
        "#two tailed test"
      ],
      "metadata": {
        "id": "07DxSWpdoEGC",
        "colab": {
          "base_uri": "https://localhost:8080/"
        },
        "outputId": "1a673c37-33e4-4304-f184-c8e2c57fc7b4"
      },
      "execution_count": 15,
      "outputs": [
        {
          "output_type": "execute_result",
          "data": {
            "text/plain": [
              "0.26606630310319546"
            ]
          },
          "metadata": {},
          "execution_count": 15
        }
      ]
    },
    {
      "cell_type": "markdown",
      "source": [
        "Consider three different people:\n",
        "\n",
        "- Person A has a 10% tolerance for Type I errors\n",
        "- Person B has a 5% tolerance for Type I errors\n",
        "- Person C has a 1% tolerance for Type I errors\n",
        "\n",
        "Which of these people (if any) would reject the null hypothesis that 40% of all possible measurements would be clear. Justify your answer."
      ],
      "metadata": {
        "id": "dcmBx9p2oSCP"
      }
    },
    {
      "cell_type": "markdown",
      "source": [
        "None of them would reject the null hypothesis. Our p value was .26. Thus, based on the tolerancess of making a type 1 error in perosn a,b, and c none would reject the null. .26 is greater than .10, .05, and .01\n"
      ],
      "metadata": {
        "id": "yHN9XNjUolHE"
      }
    },
    {
      "cell_type": "markdown",
      "source": [
        "### Q2d\n",
        "\n",
        "Using values you computed in the previous sections, create a 95% confidence interval for the proportion of clear observations in the population of all observations.\n",
        "\n"
      ],
      "metadata": {
        "id": "kYArDbG0onR7"
      }
    },
    {
      "cell_type": "code",
      "source": [
        "print(sample_prop - 2 * se_p_hat, sample_prop + 2 * se_p_hat)"
      ],
      "metadata": {
        "id": "Inh8IyOQo0JF",
        "colab": {
          "base_uri": "https://localhost:8080/"
        },
        "outputId": "6c21aadf-cfb2-4ff6-8500-a4207128903a"
      },
      "execution_count": 16,
      "outputs": [
        {
          "output_type": "stream",
          "name": "stdout",
          "text": [
            "0.36884231143293283 0.40888860379271036\n"
          ]
        }
      ]
    },
    {
      "cell_type": "markdown",
      "source": [
        "\n",
        "Explain why you knew that the value 0.4 would not appear in that interval based on the results of Q2c.\n",
        "\n"
      ],
      "metadata": {
        "id": "9BMOZmiQo7o4"
      }
    },
    {
      "cell_type": "markdown",
      "source": [
        "I knew the value of .4 would appear in the interval because at 10%, 5%, and 1% alpha levels we failed to reject the null hypothesis (the true proportion of clear measurements is .4). We knew that the value of .4 would appear in this confidence interval because we created a rejection region in part c and b"
      ],
      "metadata": {
        "id": "vFXu_B9bpO8x"
      }
    },
    {
      "cell_type": "markdown",
      "source": [
        "## Question 3\n"
      ],
      "metadata": {
        "id": "OeUr-vfCGszo"
      }
    },
    {
      "cell_type": "markdown",
      "source": [
        "### Q3a\n",
        "\n",
        "Recall that if there is no relationship between two variables (i.e., they are statistically independent in the population), then the correlation coefficient will be zero (or more generally, if there is no linear relationship).\n",
        "\n",
        "Using the standard error for a correlation coefficient. Test the hypothesis that the correlation between \"AirTemp (C)\" and \"Water Temp (?C)\" is zero against the alternative that it is non-zero. Use an $\\alpha$-level of 0.05.\n",
        "\n",
        "Note: it is helpful to create a table that only these two variables and no missing values.\n",
        "\n",
        "\n",
        "\n"
      ],
      "metadata": {
        "id": "KljHIt0apVN1"
      }
    },
    {
      "cell_type": "code",
      "source": [
        "corr_table = bbnwr[[\"AirTemp (C)\", \"Water Temp (?C)\"]].copy()\n",
        "corr_table = corr_table.dropna()\n",
        "sample_size = len(corr_table[\"AirTemp (C)\"])\n",
        "standard_error = 1/sample_size\n",
        "print(0 - 2 * standard_error, 0 + 2 * standard_error)\n",
        "corr = corr_table[\"AirTemp (C)\"].corr(corr_table[\"Water Temp (?C)\"])\n",
        "print(\"The corr from our sample is,\", corr)\n"
      ],
      "metadata": {
        "id": "pHyi6V21r1d7",
        "colab": {
          "base_uri": "https://localhost:8080/"
        },
        "outputId": "1d41e2ae-9f23-471a-b179-29bc136e1e79"
      },
      "execution_count": 17,
      "outputs": [
        {
          "output_type": "stream",
          "name": "stdout",
          "text": [
            "-0.0008888888888888889 0.0008888888888888889\n",
            "The corr from our sample is, 0.6803449857846111\n"
          ]
        }
      ]
    },
    {
      "cell_type": "markdown",
      "source": [
        "Interpret this result. Would you reject the hypothesis that there is no linear relationship between these two variables (in the population)?\n"
      ],
      "metadata": {
        "id": "WCxjyrRotAVR"
      }
    },
    {
      "cell_type": "markdown",
      "source": [
        "We would reject the null hypothesis that the correlation coefficient will be zero. There is sufficient evidence with an alpha level of .05 that there is some linear relationship between the two variables."
      ],
      "metadata": {
        "id": "pcbXaLeptJxI"
      }
    },
    {
      "cell_type": "markdown",
      "source": [
        "### Q3b\n",
        "\n",
        "Create two confidence intervals for the population correlation coefficient:\n",
        "\n",
        "- a 95% CI\n",
        "- a 99.7% CI\n"
      ],
      "metadata": {
        "id": "hkgg2sY2tOUi"
      }
    },
    {
      "cell_type": "code",
      "source": [
        "print(corr - 2 * standard_error, corr + 2 * standard_error)\n",
        "print(corr - 3 * standard_error, corr + 3 * standard_error)"
      ],
      "metadata": {
        "id": "NnTSH0O2uywd",
        "colab": {
          "base_uri": "https://localhost:8080/"
        },
        "outputId": "2ee5d8dc-92a7-4e47-9dc4-84b90094d224"
      },
      "execution_count": 20,
      "outputs": [
        {
          "output_type": "stream",
          "name": "stdout",
          "text": [
            "0.6794560968957222 0.6812338746735\n",
            "0.6790116524512778 0.6816783191179444\n"
          ]
        }
      ]
    },
    {
      "cell_type": "markdown",
      "source": [
        "Which interval is wider? Explain why we know this would be true without ever calculating the intervals."
      ],
      "metadata": {
        "id": "P3hqqS1Xurrm"
      }
    },
    {
      "cell_type": "markdown",
      "source": [
        "The interval that is wider is the 99.7 percent. Intuitively, we are essnetially casting out a bigger net, so the interval is going to be wider as to hopefully have a higher chance of getting a sample that captures the true value of our statistic (parameter). We can also intuitively think of the math behind the distribution. In a gausiian distribution, 95% of the data is captured within 2 standard deviations of the mean. While 99.7 perecent of the data is captured within 3 standard deviations of the mean. As we aim for a higher confidence level, we extend the interval further from the mean to encompass a larger proportion of the distribution, resulting in a wider confidence interval."
      ],
      "metadata": {
        "id": "tTHq2-_SuzTB"
      }
    }
  ]
}